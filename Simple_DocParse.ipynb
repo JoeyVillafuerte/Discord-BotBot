{
  "nbformat": 4,
  "nbformat_minor": 0,
  "metadata": {
    "colab": {
      "name": "Simple DocParse.ipynb",
      "provenance": [],
      "collapsed_sections": [],
      "include_colab_link": true
    },
    "kernelspec": {
      "name": "python3",
      "display_name": "Python 3"
    },
    "language_info": {
      "name": "python"
    },
    "accelerator": "GPU"
  },
  "cells": [
    {
      "cell_type": "markdown",
      "metadata": {
        "id": "view-in-github",
        "colab_type": "text"
      },
      "source": [
        "<a href=\"https://colab.research.google.com/github/JoeyVillafuerte/Simple-DocParse/blob/main/Simple_DocParse.ipynb\" target=\"_parent\"><img src=\"https://colab.research.google.com/assets/colab-badge.svg\" alt=\"Open In Colab\"/></a>"
      ]
    },
    {
      "cell_type": "markdown",
      "source": [
        "# **Keep in mind these are scored and highlighted with the objective of showing it exists, NOT to show how accurate the information is.**\n",
        "\n",
        "Process for running the System Tester\n",
        "\n",
        "Run the installations for the master of Haystack\n",
        "\n",
        "Run the no check certificate\n",
        "\n",
        "Run !tar for linux tools\n",
        "\n",
        "Start Elasticsearch and wait until it is ready\n",
        "\n",
        "Connect to ElasticSearch\n",
        "\n",
        "Run the cell to delete the stored documents.\n",
        "\n",
        "Click on the folder on the left side of the screen, and go into the \"data\" folder. Delete the files and whatever is inside of the directory there.\n",
        "ie data/sample\n",
        "Import the retriever\n",
        "\n",
        "in the cell with lots of the zipped links, input the s3 url into s3_url. it will look like s3_url = \"insertlinkhere.zip\" it **MUST** be a zip file, containing only the txt file needed, NOT nested into another folder.\n",
        "\n",
        "Make sure that the INFO - haystack.utils.import_utils -  Fetching from \"___\" fetches the correct zip file\n",
        "\n",
        "Optionally, print the doc and ensure it's correct.\n",
        "\n",
        "Run the reader to hug someone and get the reader\n",
        "\n",
        "Get the pipelines\n",
        "\n",
        "Get predictions for the current queries. Currently it is Pools, Pets, and Parking.\n",
        "\n",
        "Running the final 4 cells will just show the exact info and wording of a section, if it exists. If it does not exist, the score will usually be low and show random info to try and fill the answer."
      ],
      "metadata": {
        "id": "KtTl9wG_VHEz"
      }
    },
    {
      "cell_type": "code",
      "execution_count": null,
      "metadata": {
        "id": "7g-CG0xi2WSv"
      },
      "outputs": [],
      "source": [
        "# Install the latest master of Haystack\n",
        "!pip install --upgrade pip\n",
        "!pip install git+https://github.com/deepset-ai/haystack.git#egg=farm-haystack[colab]"
      ]
    },
    {
      "cell_type": "code",
      "source": [
        "!wget --no-check-certificate https://dl.xpdfreader.com/xpdf-tools-linux-4.04.tar.gz"
      ],
      "metadata": {
        "id": "a0vsQeSo-gGc"
      },
      "execution_count": null,
      "outputs": []
    },
    {
      "cell_type": "code",
      "source": [
        "!tar -xvf xpdf-tools-linux-4.04.tar.gz && sudo cp xpdf-tools-linux-4.04/bin64/pdftotext /usr/local/bin"
      ],
      "metadata": {
        "id": "BbyJYdOcBTYj"
      },
      "execution_count": null,
      "outputs": []
    },
    {
      "cell_type": "code",
      "source": [
        "# Start Elasticsearch in Colab from source\n",
        "! wget https://artifacts.elastic.co/downloads/elasticsearch/elasticsearch-7.9.2-linux-x86_64.tar.gz -q\n",
        "! tar -xzf elasticsearch-7.9.2-linux-x86_64.tar.gz\n",
        "! chown -R daemon:daemon elasticsearch-7.9.2\n",
        "\n",
        "import os\n",
        "from subprocess import Popen, PIPE, STDOUT\n",
        "\n",
        "es_server = Popen(\n",
        "    [\"elasticsearch-7.9.2/bin/elasticsearch\"], stdout=PIPE, stderr=STDOUT, preexec_fn=lambda: os.setuid(1)  # as daemon\n",
        ")\n",
        "# wait until ES has started\n",
        "! sleep 30"
      ],
      "metadata": {
        "id": "Y44AUkpw2nxy"
      },
      "execution_count": 4,
      "outputs": []
    },
    {
      "cell_type": "code",
      "source": [
        "# Connect to Elasticsearch\n",
        "\n",
        "from haystack.document_stores import ElasticsearchDocumentStore\n",
        "\n",
        "document_store = ElasticsearchDocumentStore(host=\"localhost\", username=\"\", password=\"\", index=\"document\")"
      ],
      "metadata": {
        "id": "4SIJvfBl2v26"
      },
      "execution_count": null,
      "outputs": []
    },
    {
      "cell_type": "code",
      "source": [
        "# cap, you need to run this\n",
        "from haystack.utils import clean_wiki_text, convert_files_to_docs, fetch_archive_from_http, print_answers\n",
        "from haystack.nodes import FARMReader, TransformersReader"
      ],
      "metadata": {
        "id": "MXU0BsuN2X9o"
      },
      "execution_count": 7,
      "outputs": []
    },
    {
      "cell_type": "code",
      "source": [
        "# deletes documents\n",
        "document_store.delete_documents () "
      ],
      "metadata": {
        "id": "2ix4NECltj32"
      },
      "execution_count": 8,
      "outputs": []
    },
    {
      "cell_type": "code",
      "source": [
        "from haystack.nodes import BM25Retriever\n",
        "\n",
        "retriever = BM25Retriever(document_store=document_store)"
      ],
      "metadata": {
        "id": "Bbp_qwm13cpf"
      },
      "execution_count": 9,
      "outputs": []
    },
    {
      "cell_type": "code",
      "source": [
        "# https://email-template-attachments.s3.amazonaws.com/haystacktest/cedar+falls+rules_00001.zip\n",
        "# https://email-template-attachments.s3.amazonaws.com/haystacktest/legacy_00001.zip\n",
        "# https://email-template-attachments.s3.amazonaws.com/haystacktest/Rules+%26+Regs+Updated+2021_00001.zip\n",
        "# https://email-template-attachments.s3.amazonaws.com/haystacktest/Rules+%26+Regs++cathedrael_00001.zip\n",
        "# https://email-template-attachments.s3.amazonaws.com/haystacktest/Community+Handbook+2021+cody+place_00001.zip\n",
        "# https://email-template-attachments.s3.amazonaws.com/haystacktest/pool+for+sure.zip\n",
        "\n",
        "# This one is zipped wrong but still testing with it\n",
        "# https://email-template-attachments.s3.amazonaws.com/haystacktest/washington+1+txt+files.zip\n",
        "\n",
        "doc_dir = \"data/sample\"\n",
        "s3_url = \"https://email-template-attachments.s3.amazonaws.com/haystacktest/cedar+falls+rules_00001.zip\"\n",
        "fetch_archive_from_http(url=s3_url, output_dir=doc_dir)\n",
        "\n",
        "# Convert files to dicts\n",
        "# You can optionally supply a cleaning function that is applied to each doc (e.g. to remove footers)\n",
        "# It must take a str as input, and return a str.\n",
        "docs = convert_files_to_docs(dir_path=doc_dir, clean_func=clean_wiki_text, split_paragraphs=True)\n",
        "\n",
        "# We now have a list of dictionaries that we can write to our document store.\n",
        "# If your texts come from a different source (e.g. a DB), you can of course skip convert_files_to_dicts() and create the dictionaries yourself.\n",
        "# The default format here is:\n",
        "# {\n",
        "#    'content': \"<DOCUMENT_TEXT_HERE>\",\n",
        "#    'meta': {'name': \"<DOCUMENT_NAME_HERE>\", ...}\n",
        "# }\n",
        "# (Optionally: you can also add more key-value-pairs here, that will be indexed as fields in Elasticsearch and\n",
        "# can be accessed later for filtering or shown in the responses of the Pipeline)\n",
        "\n",
        "# Let's have a look at the first 3 entries:\n",
        "print(docs[:3])\n",
        "\n",
        "# Now, let's write the dicts containing documents to our DB.\n",
        "document_store.write_documents(docs)"
      ],
      "metadata": {
        "id": "qQ8EW9Js22lq"
      },
      "execution_count": null,
      "outputs": []
    },
    {
      "cell_type": "code",
      "source": [
        "print (docs)"
      ],
      "metadata": {
        "id": "Md7Cuum6yWom"
      },
      "execution_count": null,
      "outputs": []
    },
    {
      "cell_type": "code",
      "source": [
        "# Load a  local model or any of the QA models on\n",
        "# Hugging Face's model hub (https://huggingface.co/models)\n",
        "\n",
        "reader = FARMReader(model_name_or_path=\"deepset/roberta-base-squad2\", use_gpu=True)"
      ],
      "metadata": {
        "id": "hNrXEypK3gk8"
      },
      "execution_count": null,
      "outputs": []
    },
    {
      "cell_type": "code",
      "source": [
        "from haystack.pipelines import ExtractiveQAPipeline\n",
        "\n",
        "pipe = ExtractiveQAPipeline(reader, retriever)"
      ],
      "metadata": {
        "id": "k1C3rZvF30rt"
      },
      "execution_count": 13,
      "outputs": []
    },
    {
      "cell_type": "code",
      "source": [
        "# You can configure how many candidates the reader and retriever shall return\n",
        "# The higher top_k_retriever, the better (but also the slower) your answers.\n",
        "predictionPets = pipe.run(\n",
        "    query=\"Are pets or animals allowed?\", params={\"Retriever\": {\"top_k\": 20}, \"Reader\": {\"top_k\": 3}}\n",
        ")\n",
        "predictionPool = pipe.run(\n",
        "    query=\"Is there a pool in my community?\", params={\"Retriever\": {\"top_k\": 20}, \"Reader\": {\"top_k\": 3}}\n",
        ")\n",
        "predictionParking = pipe.run(\n",
        "    query=\"Are there any parking rules?\", params={\"Retriever\": {\"top_k\": 20}, \"Reader\": {\"top_k\": 3}}\n",
        ")\n",
        "predictionContactInfo = pipe.run(\n",
        "    query=\"Who do I contact in this community?\", params={\"Retriever\": {\"top_k\": 20}, \"Reader\": {\"top_k\": 3}}\n",
        ")\n",
        "predictionPortal = pipe.run(\n",
        "    query=\"What should I know for the Resident Portal in this community?\", params={\"Retriever\": {\"top_k\": 20}, \"Reader\": {\"top_k\": 3}}\n",
        ")\n",
        "predictionARC = pipe.run(\n",
        "    query=\"What are the architectural or renovation rules for this community?\", params={\"Retriever\": {\"top_k\": 20}, \"Reader\": {\"top_k\": 3}}\n",
        ")\n",
        "predictionEmergency = pipe.run(\n",
        "    query=\"What should I do in an emergency? Who do I contact?\", params={\"Retriever\": {\"top_k\": 20}, \"Reader\": {\"top_k\": 3}}\n",
        ")"
      ],
      "metadata": {
        "id": "sOV4Qzuy35oK"
      },
      "execution_count": null,
      "outputs": []
    },
    {
      "cell_type": "code",
      "source": [
        "for ans in predictionPets[\"answers\"]:\n",
        "  print(\"predictionPets Answer: \" + '\\033[1;30;42m ' + str(ans.answer) + ' \\033[0;0m')\n",
        "  print(\"Context: \" + str(ans.context))\n",
        "  print(\"Score: \" + str(round(ans.score * 100,2)) + \" %\\n\")\n",
        "\n",
        "print(\"\\n\")  \n",
        "for ans in predictionPool[\"answers\"]:\n",
        "  print(\"predictionPool Answer: \" + '\\033[1;30;42m ' + str(ans.answer) + ' \\033[0;0m')\n",
        "  print(\"Context: \" + str(ans.context))\n",
        "  print(\"Score: \" + str(round(ans.score * 100,2)) + \" %\\n\")\n",
        "\n",
        "print(\"\\n\") \n",
        "for ans in predictionParking[\"answers\"]:\n",
        "  print(\"prediction Parking Answer: \" + '\\033[1;30;42m ' + str(ans.answer) + ' \\033[0;0m')\n",
        "  print(\"Context: \" + str(ans.context))\n",
        "  print(\"Score: \" + str(round(ans.score * 100,2)) + \" %\\n\")\n",
        "\n",
        "print(\"\\n\") \n",
        "for ans in predictionContactInfo[\"answers\"]:\n",
        "  print(\"predictionContactInfo Answer: \" + '\\033[1;30;42m ' + str(ans.answer) + ' \\033[0;0m')\n",
        "  print(\"Context: \" + str(ans.context))\n",
        "  print(\"Score: \" + str(round(ans.score * 100,2)) + \" %\\n\")\n",
        "\n",
        "print(\"\\n\") \n",
        "for ans in predictionPortal[\"answers\"]:\n",
        "  print(\"predictionPortal Answer: \" + '\\033[1;30;42m ' + str(ans.answer) + ' \\033[0;0m')\n",
        "  print(\"Context: \" + str(ans.context))\n",
        "  print(\"Score: \" + str(round(ans.score * 100,2)) + \" %\\n\")\n",
        "\n",
        "print(\"\\n\") \n",
        "for ans in predictionARC[\"answers\"]:\n",
        "  print(\"predictionARC Answer: \" + '\\033[1;30;42m ' + str(ans.answer) + ' \\033[0;0m')\n",
        "  print(\"Context: \" + str(ans.context))\n",
        "  print(\"Score: \" + str(round(ans.score * 100,2)) + \" %\\n\")\n",
        "\n",
        "print(\"\\n\") \n",
        "for ans in predictionEmergency[\"answers\"]:\n",
        "  print(\"predictionEmergency Answer: \" + '\\033[1;30;42m ' + str(ans.answer) + ' \\033[0;0m')\n",
        "  print(\"Context: \" + str(ans.context))\n",
        "  print(\"Score: \" + str(round(ans.score * 100,2)) + \" %\\n\")"
      ],
      "metadata": {
        "colab": {
          "base_uri": "https://localhost:8080/"
        },
        "id": "R7UkRux2Ju7T",
        "outputId": "9db563e2-4935-41be-9d74-afd9b970b43b"
      },
      "execution_count": 15,
      "outputs": [
        {
          "output_type": "stream",
          "name": "stdout",
          "text": [
            "predictionPets Answer: \u001b[1;30;42m Well-behaved domestic pets \u001b[0;0m\n",
            "Context: mpact from pet defecation\n",
            "must not be a problem to neighbors.\n",
            "Well-behaved domestic pets are allowed, however, pet owners are\n",
            "responsible for their pe\n",
            "Score: 56.61 %\n",
            "\n",
            "predictionPets Answer: \u001b[1;30;42m other animals are permitted to remain \u001b[0;0m\n",
            "Context:  exercise the authority for specific animals even\n",
            "though other animals are permitted to remain.\n",
            "Swimming Pools, Above Ground--Portable or Permanent ar\n",
            "Score: 50.81 %\n",
            "\n",
            "predictionPets Answer: \u001b[1;30;42m Incessant barking of dogs is not permitted \u001b[0;0m\n",
            "Context: by threatening or assaulting other residents or their\n",
            "Incessant barking of dogs is not permitted by these rules and it also\n",
            "violates King County Code \n",
            "Score: 49.53 %\n",
            "\n",
            "\n",
            "\n",
            "predictionPool Answer: \u001b[1;30;42m Swimming Pools \u001b[0;0m\n",
            "Context:  the Board and\n",
            "ARTICLE 7.0 ADDITIONAL RESTRICTIONS AND PROHIBITIONS\n",
            "Swimming Pools, Above Ground--Portable or Permanent\n",
            "Carport, Garage Additions PROH\n",
            "Score: 79.11 %\n",
            "\n",
            "predictionPool Answer: \u001b[1;30;42m Swimming Pools \u001b[0;0m\n",
            "Context: specific animals even\n",
            "though other animals are permitted to remain.\n",
            "Swimming Pools, Above Ground--Portable or Permanent are\n",
            "Tree houses, Forts are PRO\n",
            "Score: 77.67 %\n",
            "\n",
            "predictionPool Answer: \u001b[1;30;42m Hot tubs, pools, fountains and water features may not be located in a front or\n",
            "side yard adjacent to neighbors \u001b[0;0m\n",
            "Context: owner Association\n",
            "e Hot tubs, pools, fountains and water features may not be located in a front or\n",
            "side yard adjacent to neighbors.\n",
            "e Materials shall \n",
            "Score: 53.78 %\n",
            "\n",
            "\n",
            "\n",
            "prediction Parking Answer: \u001b[1;30;42m no garage shall be used for a storage,\n",
            "work, or shop area \u001b[0;0m\n",
            "Context: the Board of\n",
            "To maintain parking availability, no garage shall be used for a storage,\n",
            "work, or shop area, ifsuch use impairs the ability of the owner \n",
            "Score: 39.33 %\n",
            "\n",
            "prediction Parking Answer: \u001b[1;30;42m no garage shall be used for a storage,\n",
            "work, or shop area, ifsuch use impairs the ability of the owner of the\n",
            "garage to park the designated number of vehicles therein \u001b[0;0m\n",
            "Context: no garage shall be used for a storage,\n",
            "work, or shop area, ifsuch use impairs the ability of the owner of the\n",
            "garage to park the designated number of vehicles therein\n",
            "Score: 29.89 %\n",
            "\n",
            "prediction Parking Answer: \u001b[1;30;42m no obstructions, including parked vehicles, shall be\n",
            "placed therein unless permitted by the Board of Directors or by these Rules \u001b[0;0m\n",
            "Context: egress and no obstructions, including parked vehicles, shall be\n",
            "placed therein unless permitted by the Board of Directors or by these Rules\n",
            "Trash Cans\n",
            "Score: 25.05 %\n",
            "\n",
            "\n",
            "\n",
            "predictionContactInfo Answer: \u001b[1;30;42m Regional Animal Services of King County \u001b[0;0m\n",
            "Context:  the Association Manager, you are encouraged to\n",
            "contact Regional Animal Services of King County for assistance by calling\n",
            "206-296-PETS (7387), extensi\n",
            "Score: 69.44 %\n",
            "\n",
            "predictionContactInfo Answer: \u001b[1;30;42m an ACC\n",
            "representative \u001b[0;0m\n",
            "Context: so be reviewed, but cannot be expedited. You may be contacted by an ACC\n",
            "representative for additional information about your project.\n",
            "1. Window air co\n",
            "Score: 61.05 %\n",
            "\n",
            "predictionContactInfo Answer: \u001b[1;30;42m Cedar Falls Board of Directors \u001b[0;0m\n",
            "Context: o resolve their view issues themselves\n",
            "before involving the Cedar Falls Board of Directors. The Cedar Falls Board of Directors\n",
            "has the last word in re\n",
            "Score: 54.34 %\n",
            "\n",
            "\n",
            "\n",
            "predictionPortal Answer: \u001b[1;30;42m inherent\n",
            "risks of trees falling on to their property \u001b[0;0m\n",
            "Context: e property, the homeowner is assumed to know the inherent\n",
            "risks of trees falling on to their property. These homeowners are advised to\n",
            "maintain adequa\n",
            "Score: 36.78 %\n",
            "\n",
            "predictionPortal Answer: \u001b[1;30;42m Neighbors should always try to resolve their view issues themselves \u001b[0;0m\n",
            "Context: ith these approved Rules\n",
            "and Regulations. Neighbors should always try to resolve their view issues themselves\n",
            "before involving the Cedar Falls Board o\n",
            "Score: 24.14 %\n",
            "\n",
            "predictionPortal Answer: \u001b[1;30;42m Each member of the community whether owner, tenant or guest, must\n",
            "abide by the standards of the community and comply with the Declaration, Bylaws\n",
            "and these Rules and Regulations \u001b[0;0m\n",
            "Context:  Each member of the community whether owner, tenant or guest, must\n",
            "abide by the standards of the community and comply with the Declaration, Bylaws\n",
            "and these Rules and Regulations\n",
            "Score: 19.86 %\n",
            "\n",
            "\n",
            "\n",
            "predictionARC Answer: \u001b[1;30;42m between the hours of 7:00 AM and 7:00 PM \u001b[0;0m\n",
            "Context: ties shall be carried on in Cedar\n",
            "Falls community only between the hours of 7:00 AM and 7:00 PM.\n",
            "e Norubbish or debris of any kind shall be dumped, pl\n",
            "Score: 38.89 %\n",
            "\n",
            "predictionARC Answer: \u001b[1;30;42m Rules\n",
            "and Regulations \u001b[0;0m\n",
            "Context: rchitectural Control Committee in accordance with these approved Rules\n",
            "and Regulations. Neighbors should always try to resolve their view issues thems\n",
            "Score: 21.37 %\n",
            "\n",
            "predictionARC Answer: \u001b[1;30;42m guidelines and standards \u001b[0;0m\n",
            "Context: icle 7 of the Declaration of Cedar Falls.\n",
            "The following rules, guidelines and standards will give residents information needed to\n",
            "ensure improvements \n",
            "Score: 19.94 %\n",
            "\n",
            "\n",
            "\n",
            "predictionEmergency Answer: \u001b[1;30;42m Regional Animal Services of King County \u001b[0;0m\n",
            "Context:  the Association Manager, you are encouraged to\n",
            "contact Regional Animal Services of King County for assistance by calling\n",
            "206-296-PETS (7387), extensi\n",
            "Score: 68.32 %\n",
            "\n",
            "predictionEmergency Answer: \u001b[1;30;42m 911 \u001b[0;0m\n",
            "Context: lmie Police Department, which provides police service in North\n",
            "Bend. Call 911 for emergencies or 425-888-3333 for non emergencies.\n",
            "Cedar Falls Homeown\n",
            "Score: 59.75 %\n",
            "\n",
            "predictionEmergency Answer: \u001b[1;30;42m the Association Manager or a Board member \u001b[0;0m\n",
            "Context:  has the authority to enforce the Rules. Please notify\n",
            "the Association Manager or a Board member in writing or by email if\n",
            "there is a problem. The Boa\n",
            "Score: 48.65 %\n",
            "\n"
          ]
        }
      ]
    },
    {
      "cell_type": "code",
      "source": [
        "# Now you can either print the object directly...\n",
        "from pprint import pprint\n",
        "\n",
        "pprint(predictionPool)\n",
        "pprint(predictionPets)\n",
        "pprint(predictionParking)"
      ],
      "metadata": {
        "id": "HPwfXhAlWzr1"
      },
      "execution_count": null,
      "outputs": []
    },
    {
      "cell_type": "code",
      "source": [
        "# PETS TIME\n",
        "# Change `minimum` to `medium` or `all` to raise the level of detail\n",
        "print_answers(predictionPets, details=\"minimum\")"
      ],
      "metadata": {
        "id": "BBzNyaV04KMg"
      },
      "execution_count": null,
      "outputs": []
    },
    {
      "cell_type": "code",
      "source": [
        "# POOL TIME\n",
        "# Change `minimum` to `medium` or `all` to raise the level of detail\n",
        "print_answers(predictionPool, details=\"minimum\")"
      ],
      "metadata": {
        "id": "k3SyDRbKOwoJ"
      },
      "execution_count": null,
      "outputs": []
    },
    {
      "cell_type": "code",
      "source": [
        "# PARKING TIME\n",
        "# Change `minimum` to `medium` or `all` to raise the level of detail\n",
        "print_answers(predictionParking, details=\"minimum\")"
      ],
      "metadata": {
        "id": "gQ96ixvTOxIj"
      },
      "execution_count": null,
      "outputs": []
    }
  ]
}