{
  "nbformat": 4,
  "nbformat_minor": 0,
  "metadata": {
    "colab": {
      "name": "Simple DocParse.ipynb",
      "provenance": [],
      "collapsed_sections": [],
      "include_colab_link": true
    },
    "kernelspec": {
      "name": "python3",
      "display_name": "Python 3"
    },
    "language_info": {
      "name": "python"
    },
    "accelerator": "GPU"
  },
  "cells": [
    {
      "cell_type": "markdown",
      "metadata": {
        "id": "view-in-github",
        "colab_type": "text"
      },
      "source": [
        "<a href=\"https://colab.research.google.com/github/JoeyVillafuerte/Discord-BotBot/blob/main/Simple_DocParse.ipynb\" target=\"_parent\"><img src=\"https://colab.research.google.com/assets/colab-badge.svg\" alt=\"Open In Colab\"/></a>"
      ]
    },
    {
      "cell_type": "markdown",
      "source": [
        "# **Keep in mind these are scored and highlighted with the objective of showing it exists, NOT to show how accurate the information is.**\n",
        "\n",
        "Process for running the System Tester\n",
        "\n",
        "Run the installations for the master of Haystack\n",
        "\n",
        "Run the no check certificate\n",
        "\n",
        "Run !tar for linux tools\n",
        "\n",
        "Start Elasticsearch and wait until it is ready\n",
        "\n",
        "Connect to ElasticSearch\n",
        "\n",
        "Run the cell to delete the stored documents.\n",
        "\n",
        "Click on the folder on the left side of the screen, and go into the \"data\" folder. Delete the files and whatever is inside of the directory there.\n",
        "ie data/sample\n",
        "Import the retriever\n",
        "\n",
        "in the cell with lots of the zipped links, input the s3 url into s3_url. it will look like s3_url = \"insertlinkhere.zip\" it **MUST** be a zip file, containing only the txt file needed, NOT nested into another folder.\n",
        "\n",
        "Make sure that the INFO - haystack.utils.import_utils -  Fetching from \"___\" fetches the correct zip file\n",
        "\n",
        "Optionally, print the doc and ensure it's correct.\n",
        "\n",
        "Run the reader to hug someone and get the reader\n",
        "\n",
        "Get the pipelines\n",
        "\n",
        "Get predictions for the current queries. Currently it is Pools, Pets, and Parking.\n",
        "\n",
        "Running the final 4 cells will just show the exact info and wording of a section, if it exists. If it does not exist, the score will usually be low and show random info to try and fill the answer."
      ],
      "metadata": {
        "id": "KtTl9wG_VHEz"
      }
    },
    {
      "cell_type": "code",
      "execution_count": null,
      "metadata": {
        "id": "7g-CG0xi2WSv"
      },
      "outputs": [],
      "source": [
        "# Install the latest master of Haystack\n",
        "!pip install --upgrade pip\n",
        "!pip install git+https://github.com/deepset-ai/haystack.git#egg=farm-haystack[colab]"
      ]
    },
    {
      "cell_type": "code",
      "source": [
        "!wget --no-check-certificate https://dl.xpdfreader.com/xpdf-tools-linux-4.04.tar.gz"
      ],
      "metadata": {
        "id": "a0vsQeSo-gGc"
      },
      "execution_count": null,
      "outputs": []
    },
    {
      "cell_type": "code",
      "source": [
        "!tar -xvf xpdf-tools-linux-4.04.tar.gz && sudo cp xpdf-tools-linux-4.04/bin64/pdftotext /usr/local/bin"
      ],
      "metadata": {
        "id": "BbyJYdOcBTYj"
      },
      "execution_count": null,
      "outputs": []
    },
    {
      "cell_type": "code",
      "source": [
        "# Start Elasticsearch in Colab from source\n",
        "! wget https://artifacts.elastic.co/downloads/elasticsearch/elasticsearch-7.9.2-linux-x86_64.tar.gz -q\n",
        "! tar -xzf elasticsearch-7.9.2-linux-x86_64.tar.gz\n",
        "! chown -R daemon:daemon elasticsearch-7.9.2\n",
        "\n",
        "import os\n",
        "from subprocess import Popen, PIPE, STDOUT\n",
        "\n",
        "es_server = Popen(\n",
        "    [\"elasticsearch-7.9.2/bin/elasticsearch\"], stdout=PIPE, stderr=STDOUT, preexec_fn=lambda: os.setuid(1)  # as daemon\n",
        ")\n",
        "# wait until ES has started\n",
        "! sleep 30"
      ],
      "metadata": {
        "id": "Y44AUkpw2nxy"
      },
      "execution_count": null,
      "outputs": []
    },
    {
      "cell_type": "code",
      "source": [
        "# cap, you need to run this\n",
        "from haystack.utils import clean_wiki_text, convert_files_to_docs, fetch_archive_from_http, print_answers\n",
        "from haystack.nodes import FARMReader, TransformersReader"
      ],
      "metadata": {
        "id": "MXU0BsuN2X9o"
      },
      "execution_count": null,
      "outputs": []
    },
    {
      "cell_type": "code",
      "source": [
        "# Connect to Elasticsearch\n",
        "\n",
        "from haystack.document_stores import ElasticsearchDocumentStore\n",
        "\n",
        "document_store = ElasticsearchDocumentStore(host=\"localhost\", username=\"\", password=\"\", index=\"document\")"
      ],
      "metadata": {
        "id": "4SIJvfBl2v26"
      },
      "execution_count": null,
      "outputs": []
    },
    {
      "cell_type": "code",
      "source": [
        "# deletes documents\n",
        "document_store.delete_documents () "
      ],
      "metadata": {
        "id": "2ix4NECltj32"
      },
      "execution_count": null,
      "outputs": []
    },
    {
      "cell_type": "code",
      "source": [
        "from haystack.nodes import BM25Retriever\n",
        "\n",
        "retriever = BM25Retriever(document_store=document_store)"
      ],
      "metadata": {
        "id": "Bbp_qwm13cpf"
      },
      "execution_count": null,
      "outputs": []
    },
    {
      "cell_type": "code",
      "source": [
        "# https://email-template-attachments.s3.amazonaws.com/haystacktest/cedar+falls+rules_00001.zip\n",
        "# https://email-template-attachments.s3.amazonaws.com/haystacktest/legacy_00001.zip\n",
        "# https://email-template-attachments.s3.amazonaws.com/haystacktest/Rules+%26+Regs+Updated+2021_00001.zip\n",
        "# https://email-template-attachments.s3.amazonaws.com/haystacktest/Rules+%26+Regs++cathedrael_00001.zip\n",
        "# https://email-template-attachments.s3.amazonaws.com/haystacktest/Community+Handbook+2021+cody+place_00001.zip\n",
        "# https://email-template-attachments.s3.amazonaws.com/haystacktest/pool+for+sure.zip\n",
        "\n",
        "# This one is zipped wrong but still testing with it\n",
        "# https://email-template-attachments.s3.amazonaws.com/haystacktest/washington+1+txt+files.zip\n",
        "\n",
        "doc_dir = \"data/sample\"\n",
        "s3_url = \"https://email-template-attachments.s3.amazonaws.com/haystacktest/cedar+falls+rules_00001.zip\"\n",
        "fetch_archive_from_http(url=s3_url, output_dir=doc_dir)\n",
        "\n",
        "# Convert files to dicts\n",
        "# You can optionally supply a cleaning function that is applied to each doc (e.g. to remove footers)\n",
        "# It must take a str as input, and return a str.\n",
        "docs = convert_files_to_docs(dir_path=doc_dir, clean_func=clean_wiki_text, split_paragraphs=True)\n",
        "\n",
        "# We now have a list of dictionaries that we can write to our document store.\n",
        "# If your texts come from a different source (e.g. a DB), you can of course skip convert_files_to_dicts() and create the dictionaries yourself.\n",
        "# The default format here is:\n",
        "# {\n",
        "#    'content': \"<DOCUMENT_TEXT_HERE>\",\n",
        "#    'meta': {'name': \"<DOCUMENT_NAME_HERE>\", ...}\n",
        "# }\n",
        "# (Optionally: you can also add more key-value-pairs here, that will be indexed as fields in Elasticsearch and\n",
        "# can be accessed later for filtering or shown in the responses of the Pipeline)\n",
        "\n",
        "# Let's have a look at the first 3 entries:\n",
        "print(docs[:3])\n",
        "\n",
        "# Now, let's write the dicts containing documents to our DB.\n",
        "document_store.write_documents(docs)"
      ],
      "metadata": {
        "id": "qQ8EW9Js22lq",
        "colab": {
          "base_uri": "https://localhost:8080/"
        },
        "outputId": "8f098875-8f27-4b3b-8ee2-9f87d8e41828"
      },
      "execution_count": null,
      "outputs": [
        {
          "output_type": "stream",
          "name": "stderr",
          "text": [
            "INFO - haystack.utils.import_utils -  Fetching from https://email-template-attachments.s3.amazonaws.com/haystacktest/cedar+falls+rules_00001.zip to `data/sample`\n",
            "INFO - haystack.utils.preprocessing -  Converting data/sample/cedar falls rules_00001.txt\n"
          ]
        },
        {
          "output_type": "stream",
          "name": "stdout",
          "text": [
            "[<Document: {'content': 'Cedar Falls Homeowner Association\\nUPDATED EFFECTIVE APRIL 26, 2016\\nThe following are the Rules and Regulations adopted by the Board of Directors of\\nCedar Falls Homeowner Association pursuant to the authority granted to the\\nBoard in Article 7 of the Declaration of Cedar Falls.\\nThe following rules, guidelines and standards will give residents information needed to\\nensure improvements and modifications they wish to make to their homes and\\nproperties have a shortened approval process. Projects which do not meet the\\nstandards may not be approved or, if the projects have been completed without prior\\napproval, their removal may be required.\\nWe are living in close association with our fellow residents and common courtesy\\ndictates that our actions not infringe on the rights of other residents. These Rules\\nare designed to ensure that each of us achieves the maximum enjoyment of our\\nhomes. Each member of the community whether owner, tenant or guest, must\\nabide by the standards of the community and comply with the Declaration, Bylaws\\nand these Rules and Regulations. Adherence to the Rules will help to promote a\\n\"good neighbor\" atmosphere within the community.\\nAll owners received initial copies of the Declaration and Bylaws at the close of\\nescrow. The management company supplies initial copy of the Rules &\\nRegulations after the close of escrow. All owners can obtain copies of the current\\ngoverning documents, financial information, minutes of Board Meetings or any\\nother pertinent information by contacting the Association Manager with Morris\\nManagement, at 425-283-5858 or info@morrismanagement.com.\\nEach owner is fully responsible for the compliance of their family members,\\nguests, tenants and other occupants of the owner\\'s home while they are within\\nthe boundaries of Cedar Falls. The Board may impose monetary fines not to exceed\\n$150 for Rules violations, in addition to its right to pursue continuing fines, legal\\nremedies or other remedial actions as set forth in the Rules and Regulations.\\nFines assessed against an Owner shall be collectible as delinquent assessments.\\nFines will be payable to Cedar Falls Homeowner Association within 15 days of\\nARTICLE 1.0 COMPLAINT PROCEDURE AND ENFORCEMENT\\n1.1. The Board of Directors has the authority to enforce the Rules. Please notify\\nthe Association Manager or a Board member in writing or by email if\\nthere is a problem. The Board has delegated to the Association ManagerRules and Regulations\\nCedar Falls Homeowner Association\\nthe authority to take Rules enforcement action consistent with the Due\\nProcess Rules Enforcement Procedures, (Appendix A, attached) including\\ncontacting violators to seek compliance and issuing warnings.\\n1.2 Homeowners are responsible for the conduct of all members of their family\\nor household and for the conduct of their tenants and guests and each\\nhomeowner and tenant are jointly and individually financially responsible for\\nany damage done to property of other owners by any members of their\\nfamily or household, their tenants or their guests. Both the homeowner\\nand a non-owner violator may be penalized for violation of the Rules.\\nPenalties assessed against the homeowner shall be collectible as delinquent\\n1.3. Enforcement of the provisions of the Declaration, Bylaws and Rules and\\nRegulations shall be done in accordance with Due Process Rules\\nEnforcement Procedures which may be adopted and amended from time\\nto time and may be part of the Bylaws or the Rules.\\n2.1 “Assessment” means allsums chargeable by the Association against an\\nOwner, including without limitation regular and special Assessments, fines\\nimposed bythe Association, interest and late charges on any delinquent\\naccount, costs of collection, including reasonable attorney\\'s fees, incurred\\nby the Association in connection with the collection of a delinquent Owner\\'s\\naccount, costs and attorney\\'s fees incurred by the Association in\\nconnection with the enforcement of the Governing Documents, and all\\nothersums payable by an Owner to the Association as provided inthe\\n2.2 Regular monthly Assessments are due on the first day of every month. A\\nlate fee of $10.00 per month will be assessed by the Association against any\\nAssessment account which is not paid in full by the 15th day of the month.\\n2.3 In addition to the late fee, an administrative fee of $25.00 will be assessed\\nagainst any account which is 60 days past due. This fee may be applied in\\neach subsequent month during which the assessments are unpaid.\\nARTICLE 3.0 EXTERIOR CONDITIONS\\nIn order to preserve the uniform appearance of the community, the Board of\\nDirectors will have the sole authority over modifications to exterior elements and\\nstructures. Included in the list below are many, but not all standards or criteria that the\\nBoard will consider. It is important for Owners to understand that approval or rejection of\\nan improvement is often based on overall aesthetic impact, which is a very subjective\\nissue. Further, not all homes and lots are the same and the aesthetic impact anRules and Regulations\\nCedar Falls Homeowner Association\\nimprovement may have in one location may be different than another.\\nACC approval is required prior to any exterior alterations or additions to any lot, living\\nunit or structure thereon unless specified in Section 6.0 as not needing ACC approval.\\nWhen making decisions regarding the following list, the Board shall consider the criteria\\nset forth below, and the ACC Review Criteria set forth in Section 5.0.\\nRegulated alterations NOT requiring ACC Review are detailed in Section 6.0.\\nModifications to the exterior of existing elements and structures requiring ACC\\nReview, including but are not limited to:\\n*Dog Houses, Dog Runs, Dog Pens, Dog Doors\\nFront Doors, Storm/Screen Doors\\nGardens (See Vegetable Gardens)\\n*Hot Tubs, Swimming Pools, Fountains, Water Features\\n*Landscaping: Front and Exposed Side Yards\\n*Planters, Planter Boxes, and Garden Beds\\nPlay Structures (See Recreational Play Equipment or Structures)\\n*Recreational Play Equipment or Structures\\nStorage Temporary structuresRules and Regulations\\nCedar Falls Homeowner Association\\n*Trees (See Section 6.0 Tree and Large Vegetation Policy)\\n*Standards to assist in ACC Application detailed below\\nThe restrictions for alteration of the above on private property, in addition to any\\nalteration of the common areas and facilities, require prior Architectural Control\\nCommittee (ACC) approval from the Board of Directors. The ACC process is detailed\\nIn order to gain a prompt ACC review and project approval, proposed improvements\\nshould adhere to the below standards. Proposed improvements outside these standards\\nwill also be reviewed, but cannot be expedited. You may be contacted by an ACC\\nrepresentative for additional information about your project.\\n1. Window air conditioning units or other appliances protruding from windows\\nare prohibited in the front of the house. Window air conditioning units\\nprotruding from the side yard may require visual screening.\\n2. Air conditioning units and/or heat pumps must be located so they are not\\nvisible from the street or sidewalk. Air conditioning units or heat pumps shall\\nbe installed in rear and side yards only.\\n3. Air conditioning units or heat pumps with sound dampening technology are\\n3.2 Arbors shall not exceed ten (10) feet in height from the ground. Arbors are\\npermitted on decks, patios, fences, gates, or can be a freestanding decorative\\nelement. If attached to a deck, fence or gate, the material and color must be the\\nsame as the deck, fence or gate, to which it is attached.\\nCedar Falls Homeowner Association\\nArtificial Turf can only be installed in side and rear yards that are fenced and\\nnot visible from the street or sidewalk.\\nArtwork and Sculptures In the front yard, art, sculptures or commissioned\\npieces shall not exceed of 30\" in height. In fenced side or rear yards art,\\nsculptures or commissioned pieces not to exceed ten (10) feet in height from the\\nground are permitted with approval.\\nAwnings Retractable awnings over patios or decks with suitable dimensions\\nshall be permitted on the rear of the house. Fixed awnings are PROHIBITED.\\nAwnings must be kept in such a manner that they do not appear sun-faded,\\nappear to have mildew or mold, and must complement the color of the house\\nCompost Bins Compost must be enclosed in an animal proof container or bin.\\nVisual and odor impact must not be a problem to neighbors. If the above situation\\nexists it shall result in removal of the bin. Pest control is the responsibility of the\\ncompost bin owner. Bins must be kept in the rear of the Lot. The bin shall not be\\nover four (4) feet high and not exceed sixteen (16) cubic feet.\\nDecks, Balconies Decks and/or balconies shall be approved based on size,\\nmaterial and location. Deck size shall be compatible with the house and lot size.\\nMaterial and location shall be compatible with existing approved decks in the\\narea. Decks shall be compatible in materials and color with the applicant\\'s house.\\nScreenings and / or plantings may be required to soften visual impact.\\nDoghouses, Dog Runs, Dog Pens, Doggie Doors Doghouses, Runs and Pens\\nshall be compatible with the applicant\\'s house in terms of color and material.\\nThey must be located where they are visually unobtrusive to neighbors and the\\nuse of plantings to screen them may be required. Visual and odor impact must\\nnot be a problem to neighbors. Doggie Doors must be located in the rear yard\\nand exit to a yard with a fence.\\nGrills, Permanent Grills must be placed in the backyard only. Grills must be\\nconstructed in compliance with building and fire codes.\\nHot Tubs/Swimming Pools/Fountains/Water features\\ne Small portable children’s wading pools may be permitted as outlined in 3.17\\ne Below ground pools, hot tubs (below and above ground), fountains and water\\nfeatures must be located behind a 5’ wood fence.Rules and Regulations\\nCedar Falls Homeowner Association\\ne Hot tubs, pools, fountains and water features may not be located in a front or\\nside yard adjacent to neighbors.\\ne Materials shall blend with the natural surroundings, or have screening installed\\nand be color compatible to match the surrounding area.\\ne Pump equipment, water features and fountains shall be located a minimum of\\nten (10) feet from all property lines or enclosed to minimize the impact of noise\\non adjacent neighbors. See 7.5 Noise and Offensive Activities for quiet\\ne Responsibility and liability associated with the pool, hot tub, water feature, and\\nfountain rests with the owner/operator.\\nIn-Home Business An Owner or Resident may conduct business activities\\ne The existence or operation of the business activity is not apparent or\\ndetectable by sight, sound or smell from outside the home.\\ne The business activity conforms to all zoning requirement for the\\ne The business activity does not involve regular visitation of the home by\\nclients, customers, suppliers, or other business invitees or door-to-door\\nsolicitation of residents of the community.\\ne The business activity is consistent with the residential character of the\\ncommunity and does not constitute a nuisance, or a hazardous or\\noffensive use, or threaten the security or safety of other residents of the\\ncommunity, as may be determined inthe sole discretion of the Board of\\nLandscaping: Front and Exposed Side Yards Trees, shrubs, or any other\\nplantings that are of a different variety than those originally found in the front and\\nexposed side yard landscaping shall be compatible with the surrounding area.\\nLandscaping rocks, edging, pavers, etc. shall be compatible with surrounding\\narea. Landscaping rocks should be displayed in conjunction with greenery\\nand shall not be the focal point of a landscaped bed. Size, color, type of\\nstone, positioning, and appropriateness may be criteria for approval of\\nlandscaping rocks. Planting similar plants, trees, or shrubs in the front and\\nexposed side yards to replace landscaping that is dead or dying is permitted\\nOutbuildings Sheds, greenhouses, doghouses, and any other out building must\\nbe compatible with the style, color and composition of the main house and\\nCedar Falls Homeowner Association\\nmaintained to the same level of repair as the main house. Out buildings cannot\\nexceed ten (10) feet in width/length by twelve (12) feet width/length by ten (10)\\nfeet high. Visual screen can be required. Metal or canvas sheds or buildings are\\nPainting and Paint Colors Color of stains and paints shall be compatible with\\nthe color of other houses in the neighborhood. Color chips of proposed stains\\nand paints must be submitted along with the ACC application. An application is\\nnot required in order to repaint or re-stain structures to match the original color.\\nPatios and Patio Additions Patios, patio additions, decks, etc. shall be not large\\nenough for the yard to have more than 75% impervious area. A minimum of 25%\\npervious area must be maintained in the front yard, back yard and side yards.\\nPlanters, Planter Boxes and Garden Beds\\ne Homes were built with window planters. Built in, unmovable additional planter,\\nplanter boxes and garden beds, etc. are PROHIBITED in the front yard.\\ne Planters and raised garden beds in the backyard shall match and/or\\ncoordinate with the home’s exterior paint or be constructed with “non toxic”\\ne Recreation and play equipment include play forts, play houses, swing sets,\\nclimbing apparatus, skateboard ramps, basketball hoops, putting greens,\\nsandboxes, trampolines and other portable and non-portable play structures\\nor equipment, whether permanent or temporary.\\ne The number of recreation and play equipment allowed on any lot is\\ndependent upon the lot size and impact on adjacent properties. No more than\\none of each type of play structure will be permitted on any lot.\\ne Recreation and play equipment shall be in the rear yard unless otherwise\\nspecified. Exceptions include preapproved freestanding basketball hoops,\\nskateboard ramps, and other items requiring the use of driveways as playing\\ne Playground & sports equipment must be tasteful in appearance. Equipment\\nthat clashes unduly with the dwelling or with its immediate surroundings shall\\nnot be permitted. Playground & sports equipment finished in subdued colors\\nthat blend with the surroundings is preferred. Bright, garish colors or\\nfluorescent finishes shall not be permitted.Rules and Regulations\\nCedar Falls Homeowner Association\\ne Playground equipment shall be located no closer than ten (10) feet from all\\nproperty lines. The location should be as unobtrusive as possible, ideally\\ndirectly behind the house to provide maximum shielding from public view.\\ne Playground equipment’s scale, size and color shall be compatible with the\\nhome and surrounding areas. Play equipment shall not cover more than 15%\\nof the total backyard area. If a house has more than one piece of equipment,\\ncare should be taken to match the equipment as well as possible.\\ne The maximum overhead play equipment height is ten (10) feet. However, in\\nsome locations, a 10 foot play structure may not be approved depending on\\nan evaluation of the impact on surroundings, privacy, views and other details\\ne Visual screens may be required to be installed to soften or screen the\\nequipment if the equipment is located in a manner that would otherwise\\ndetract from the overall look of the community.\\ne Playground equipment shall be constructed primarily of wood and stained a\\nnatural color. Canvas awnings or roofs must be muted shades and without\\npatterns. No striped or camouflage canvases are allowed. Composition\\nshingle roofing must be compatible with the dwelling roof.\\ne Metal material is allowed for basketball backboard poles and trampolines.\\ne Trampolines may not exceed 15 feet in diameter.\\ne Trampoline accessories permitted include, but are not limited to, poles,\\npadded covers and netting in muted shades. No banners are allowed on\\ne Sandboxes shall be kept in a neat and tidy condition, preferably covered\\ne Putting greens shall only be located in the rear and/or side yard and must not\\nresult in an unreasonable or disproportionate impact on neighboring\\nproperties. The area permitted for putting greens on any lot will be dependent\\nupon the lot size and impact on adjacent properties. Additional screening\\ne Freestanding basketball hoops are allowed in the driveway with prior ACC\\napproval. Freestanding basketball hoops must remain behind the sidewalk,\\npreferably as close to the house/garage as possible. Fixed basketball hoops\\nin the front yard are prohibited.Rules and Regulations\\nCedar Falls Homeowner Association\\nSkateboard ramps may be placed in driveways only when in actual use and\\npreferably as close to the house / garage as possible. Skateboard ramps\\nmust be stored out of public view when not in use.\\nPortable toys or play equipment (e.g., bicycles, wading pools, yard game\\nequipment, sandboxes, hockey and soccer goals and portable skateboard\\nramps) must be stored so they cannot be seen from the street and adjacent\\nproperty at ground level when not in use.\\nPlayground & sports equipment considered obtrusive by the BOD shall not be\\nAll recreation and play equipment must be maintained to a reasonable\\nstandard. The Board reserves the right to repair or remove any equipment\\nthat is not kept in a reasonable state of repair at the homeowner\\'s expense\\nprovided that the homeowner has received reasonable warning to repair the\\n3.18 Satellite Dishes A satellite dish may not be installed without written approval\\nof the Board of Directors. Satellite dishes may be installed under the\\nSatellite dished mush be gray in color and contain no advertising.\\nA satellite dish may not exceed one meter in diameter.\\nAll satellite dishes must be installed in a location approved by the Board.\\nBefore scheduling an appointment for installation, Unit Owner must\\ncomplete and submit to the Association an ACC Request Form and obtain\\napproval for the installation from the Association. The Unit Owner will be\\nsolely responsible for any and all personal injuries and property damage\\narising either in connection with or as a result of the installation and use of\\na Satellite dish system. The Unit owner shall indemnify and hold the\\nAssociation harmless against any and all claims, lawsuits, losses,\\nliabilities or expenses of any kind or nature whatsoever (including\\nattorneys’ fees and costs) arising as a result of any such personal\\nSiding Replacement A sample of any proposed siding must be submitted\\nwith ACC application. Replacement of existing siding with identical\\nmaterial and color does not require an ACC application. However\\nnotification of ACC and adjacent households is strongly recommended.\\nSigns Placement or posting of any object on the exterior of any home or\\ncommon area such as signs or flags unless otherwise specified below\\nCedar Falls Homeowner Association\\nrequires prior ACC approval. Unless otherwise specified, all sign installations\\nmust take place behind the sidewalk. No signs shall be installed in the common\\nplanter beds, rain gardens, or common areas.\\ne One sign per political campaign or ballot issue is allowed. The sign(s) shall\\nnot exceed twenty-eight (28) by twenty-two (22) inches in size. Signs must be\\nremoved within 4 days after the primary or general election to which they\\ne Except for political yard signs, no signs shall be displayed to the public view\\non any Lot or living unit except one of not more than 5 square feet advertising\\nthe Lot or Living Unit for sale or rent.\\ne Real Estate Signs of the \"A\" board type or directional arrows are allowed on\\nthe common areas only during staffed open houses.\\ne Homeowners are allowed one sign displaying the name of their security\\ne Except as specifically provided in this Section, no other signs, pictures or\\nposters of any kind shall be displayed to the public view on or from any\\nhome or from the common areas and facilities without the consent of the\\n3.21 Trellises/Pergolas Trellises’ and pergolas’ scale, size and color should be\\ncompatible with the home and surrounding areas. The maximum overhead\\ntrellis/pergola height is ten (10) feet. However, in some locations, a 10 foot\\ntrellis/pergola may not be approved depending on an evaluation of the impact on\\nsurroundings, privacy, views and other details deemed relevant.\\n3.22 Vegetable Gardens Gardens should be located behind the house, out\\nof public view. Vegetable gardens in the front yards must be in portable pots\\nor containers (not fixed or raised beds). Approved front yard vegetable potted\\ngardens shall be installed in keeping with the appearance of the community and\\nmaintained to a reasonable standard. The installation of tomato cages, fences,\\nfixed raised beds, etc. in a front yard garden is prohibited.\\nCedar Falls Homeowner Association\\nARTICLE 4.0 TREE AND LARGE VEGETATION POLICY\\nIt is clear that the developer of the Cedar Falls Community intended for a substantial\\npart of the neighborhood to have some degree of view of surrounding mountains, Mt Si,\\nRattlesnake Ridge, etc. Property values are directly tied to the maintenance of existing\\nviews. To this end, the Vegetation Policy shall be administered by the Board of\\nDirectors and Architectural Control Committee in accordance with these approved Rules\\nand Regulations. Neighbors should always try to resolve their view issues themselves\\nbefore involving the Cedar Falls Board of Directors. The Cedar Falls Board of Directors\\nhas the last word in resolving these issues.\\n4.1 Installation of Trees and Large Vegetation\\n1. Planted vegetation and trees shall not be permitted to unreasonably infringe\\non the views of neighboring properties. Committee-recommended actions to\\nremedy such view infringement may be enforced by the Cedar Falls Board of\\nDirectors. In general, trees that will stand higher than the roofline or thirty (30)\\nfeet at maturity, whichever is greater, may not be approved.\\n2. Trees shall be a variety tolerant of selective pruning without topping.\\n3. Trees shall be placed so as not to completely blocks views or sun from\\n4. Trees and landscaping shall not be installed in a group or line to create a\\nscreen over ten (10) feet high. Three (3) trees or more in a row shall be\\nconsidered to constitute a visual screen if planted close enough together so\\nthat at maturity, their branches visually touch or intertwine.\\n5. Trees and landscaping shall be planted in a location that eliminates the\\npotential for encroachment onto neighboring property or shared spaces, such\\nas shared fences and common property.\\n6. Homeowner planted trees and shrubs that are located on your property, that\\nare visible from your neighbors’ home active living areas, need to be\\nmaintained at a height that is at or below your homes maximum roof height or\\nthirty (30) feet, whichever is greater, when viewed from the neighboring active\\nliving areas. These standards are included for the purpose of maintaining\\nviews, rather than the creation of views. Ridge heights of existing structures\\nshall serve as a guideline for maximum tree heights. However, certain trees\\nor shrubs may be determined to obstruct neighboring views even if such trees\\nor shrubs are below ridge height.\\n7. The Living Room, the Dining Room, the Kitchen, and the Family Room are\\nconsidered to be the minimum active living areas in the home. Other areas\\nCedar Falls Homeowner Association\\naround the home may also be considered as active living areas depending on\\nthe design of the home and the residents’ lifestyle. The Board of Directors will\\nmake the final decision as to what areas are considered the home active\\n8. If planted trees grow to obstruct your neighbors view or encroach on\\nneighboring property, the Cedar Falls Board of Directors has the authority to\\norder landscape trimming or removal. The Board of Directors and/or\\nArchitectural Control Committee reviews each view violation, which cannot be\\nsolved directly by the neighbors involved and determines what needs to be\\ndone to remedy the situation. Violation fines start at $150 per month\\nminimum, but may be assessed more often depending on the severity of the\\n9. If violation fines do not result in remediation, the BOD may suggest all parties\\nNote: The Complaining Party and the View Obstructer shall each pay for 50% of\\nthe Mediation costs. The View Obstructer shall pay all of the Cedar Falls Board\\nof Director assessed violation fines and shall pay for removing all of the view\\nobstructions. Nothing herein shall prevent either party from seeking appropriate\\nrelief in court if mediation has proved unsuccessful. The Court shall decide who\\nRemoving, Altering or Installing Trees on Private Land Homeowners wishing\\nto remove trees, top trees or install trees on their own lots must follow the\\nprocedures outlined by the Architectural Control Committee (ACC) and submit an\\napplication prior to doing any work with the following exceptions:\\ne Homeowners may prune trees on their own lots without application to the ACC\\ne Homeowners may replace dead or dying trees on their own lots with the same\\ntype of tree in the same location without application to the ACC.\\nFallen Trees on Private Land Some properties have old trees retained from\\nbefore the development was built. Other properties border forested areas with\\nlarge trees. By deciding to purchase a home with tall mature trees on the\\nproperty or near the property, the homeowner is assumed to know the inherent\\nrisks of trees falling on to their property. These homeowners are advised to\\nmaintain adequate insurance coverage to cover property damage and the costs\\nfor removal of fallen trees from their property. In the event of a fallen tree onto\\nthe homeowner\\'s lot, the homeowner may remove the fallen tree immediately in\\nconjunction with filing their insurance claim. The cost to remove a fallen tree is\\nthe responsibility of the owner of the land where the fallen tree lies.\\nTrees on Common or Public Land No resident may add, alter or remove any\\ntrees in the common areas, wetlands, parks, sensitive areas or on private land\\nCedar Falls Homeowner Association\\nwithout advance written approval of the ACC and/or the appropriate\\ngovernmental agency and/or property owner. Violators of the rules are subject to\\nfines and penalties as outlined in the Association’s rules. In addition, the\\nhomeowner in violation is responsible for all costs and fines levied by any\\nHazardous Trees on Public Land Hazardous trees, defined as dead, declining\\nor trees oriented in such a way as to create a potential danger to property or\\npeople may be eligible for removal or alteration. View enhancement or view\\nmaintenance is not a valid reason for tree removal or alteration. These trees\\nrequire prior approval of the relevant governing body before they can be touched.\\nTo determine whether a hazardous tree is on Association, City or County land,\\nplease contact the Community Manager.\\nCedar Falls Community Trees Association trees, located in the medians,\\nstreetscapes and Association-owned land and parks, shall be maintained by the\\nAssociation. Removal and cost assessment decisions for Association trees shall\\nbe made by the Board of Directors. Removal costs may be paid by either the\\nAssociation, or levied as a specific assessment to the impacted Homeowner(s).\\nFor questions regarding Association trees or to report a hazardous tree, contact\\nARTICLE 5.0 ARCHITECTURAL CONTROL COMMITTEE REVIEW\\nAll exterior alterations or additions to property as described above require prior written\\nArchitectural Control Committee (ACC) approval. In the event the homeowners\\' panel of\\nthe ACC is not appointed by the Board, then the Board will discharge the duties of the\\nACC. This requirement applies to sub-associations as well as individual homeowners.\\n1. Submittal of a completed ACC form to the Association Manager\\n2. Additional information may be required from homeowner.\\n3. Review by ACC Committee and/or Board of up to 30 days from the time the\\nsubmitted application is considered complete as determined by the\\n4. Applications which do not meet standards outlined in the Cedar Falls Rules\\nand Regulations may require a review of over 30 days. .\\n5. Written approval or denial of the request\\n6. Approved modifications may commence upon receipt of written approval\\nHomeowners must obtain ACC approval before starting a new project,\\naddition, modification, or improvement. Once ACC approval is obtained,\\nhomeowners must follow the guidelines and requirements of the approval.\\nThe fine for violation of any of the above rules is $150. Homeowners\\ndetermined to be in violation of current required standards, or who fail to bring\\nCedar Falls Homeowner Association\\nthe property into compliance after notice has been provided, may be subject to\\ncontinuing fines or potential legal action.\\nCity of North Bend approval does not eliminate the requirement for ACC\\napproval. ACC approval does not eliminate the requirement for City of North\\nBend approval. Homeowners are responsible for determining if the proposed\\nproject requires City of North Bend approval and are required to obtain any\\nrequired city approvals before any work is begun. Homeowners must maintain\\nCity of North Bend required setbacks as shown on the permit, if one is required—\\nor as set forth in City of North Bend Building and Zoning Codes.\\nMaintenance projects do not require ACC approval. For example, no ACC\\napplication is required to be submitted for repainting or restaining structures to\\nmatch the original color or for replacing dead plants in the front yard with similar\\nMaking an Application to the ACC See ACC Application for instructions.\\nACC Review Criteria: The ACC evaluates all submissions on the individual\\nmerits of the application. By their nature many ACC evaluations involve the\\napplication of subjective opinions—a fact that cannot be avoided. The following\\ncriteria will be applied in evaluating ACC requests.\\ne The proposed alterations must be compatible with the architectural\\ncharacteristics of the applicant\\'s house, adjoining houses and the\\nneighborhood setting. Yard improvements, both soft (landscaping) and hard\\n(paver, rock, etc.) shall be compatible with the character of the neighborhood.\\ne Compatibility is defined as similarity in style and quality of workmanship,\\nsimilar use of materials, colors, size, scale and construction details.\\n* The proposed alteration should not detract from the existing landscape, the\\nexisting structure and the neighborhood or unduly impact surrounding\\ne All adjacent property owners/households who might be impacted must be\\nnotified of the proposed project.\\ne Concerns from adjacent households, which cannot be mitigated or addressed\\nby modifications to the proposal will be taken into consideration by the ACC.\\n* All height restrictions are based on the grade directly below the structure at\\nany given point. If not specified, height is restricted to ten (10) feet.\\n¢ Footprint of the structure may not exceed ten (10) feet by twelve (12) feet\\nCedar Falls Homeowner Association\\n« Any alteration of property cannot create a drainage issue to the homeowner\\nproperty or neighboring properties.\\ne Each property was designed with existing storm drainage to contain all storm\\nwater on site. If proposed project requires alteration of the existing storm\\ndrainage system, for example due to a patio’s placement, certification from a\\nprofessional landscaper, civil engineer or the equivalent that all site’s storm\\nwater shall be collected into the revised drainage system and infiltrated on-\\nThe ACC Committee may make periodic inspection.\\nARTICLE 6.0 REGULATED ALTERATIONS TO EXISTING ENVIRONMENT\\nNEEDING NO ARCHITECTURAL CONTROL COMMITTEE REVIEW\\nTrash Cans, Recycle Bins, Waste Containers\\nCurtains, Drapes, Blinds Curtains or drapes must be backed with fabric of\\nwhite or off-white color and blinds must be of neutral or natural color tones.\\nWindow coverings not meeting these criteria must be approved by the\\nFences Nothing may be placed or hung over shared fences/railings, or nailed\\ninto fences/railings where visible to the street.\\nFlagpoles, Flags An owner may install two flag holders attached to the house\\nwithout prior ACC approval—one to display the US flag and one for seasonal\\ndisplays. However, all flag displays must comply with Federal Flag Display Law\\nguides and the Washington Administrative Code. Flags size shall not exceed\\nthree (3) feet by five (5) feet. Freestanding flagpoles are PROHIBITTED.\\ne Each homeowner is responsible for obtaining at his or her own\\nCedar Falls Homeowner Association\\nexpense, insurance covering his or her property not insured under the\\nAssociation’s Insurance policy explained in the Declaration.\\nNo homeowner or occupant shall permit anything to be done or kept in\\nthe homes or inthe common (or limited common) areas and facilities\\nwhich will increase the insurance premiums of the Association or result in\\nthe cancellation of such insurance on any home or in part of the\\ncommon areas and facilities, without the consent of the Board of\\nTo maintain parking availability, no garage shall be used for a storage,\\nwork, or shop area, ifsuch use impairs the ability of the owner of the\\ngarage to park the designated number of vehicles therein.\\nAll vehicles parked at the Community shall bear valid license plates and\\nNo motor rebuilds, bodywork or major vehicle repairs or oil changes shall\\nbe done on the property except in enclosed garages. Owners shall be\\nresponsible for cleaning any oil drips on their driveways.\\nOther than operative passenger motor vehicles, no equipment, mobile\\nhomes, trailers, commercial trucks, full-sized vans, campers, boats, RV\\'s,\\njet skis, or other motorized vehicles, shall be parked, kept, maintained,\\nplaced, constructed, remodeled, reconstructed or repaired inthe\\ndriveway or along any drive lane of the community. The Board of\\nDirectors may require removal by the owner of any improperly parked\\nvehicle, inoperative or unsightly vehicle, and any other equipment or\\nitems improperly stored on the drive lanes of the community. If the same is\\nnot removed, the Board may cause removal at the risk and expense ofthe\\nSpeeding and unsafe driving is prohibited.\\nAll streets in the community, including the three park loops, are public right-of-\\nway, owned and operated by the City of North Bend.\\nStreet maintenance concerns/requests should be made directly to the City of\\nTraffic or parking enforcement requests would best be addressed through the\\nCity of Snoqualmie Police Department, which provides police service in North\\nBend. Call 911 for emergencies or 425-888-3333 for non emergencies.\\nCedar Falls Homeowner Association\\ne Owners renting or leasing theirhomes shall provide the Board or\\nManagement Company with a copy of the tenant\\'s written rental\\nagreement and a check for the move in fee of $150.\\ne Owners shall provide their current address as well as home and alternative\\ntelephone and contact information to the Association office.\\ne Owners renting or leasing their home must provide their tenants with a\\ncopy of all Rules and Regulations of the community. Owners will be\\nnotified of tenant\\'s failure to comply with the Rules and will be held\\nfinancially responsible for any fines assessed for violations of the Rules\\nby their tenants or their tenant\\'s guests. Owners will also be held\\nfinancially responsible for costs incurred for any damage caused by\\ntenants or their guests to any area of the common area of the\\ne Owners shall provide the names, contact information, and vehicle\\nidentification information of their tenants to the Association Manager.\\nAdditionally, Owners shall provide their own off-sitecontact information to\\ne |fan Owner fails to evict a tenant who is in continuing violation of the\\nRules, the Board of Directors may take appropriate action to do so and\\ncharge the Owner for the expenses incurred.\\nSeasonal Decorations Seasonal decorations may be installed up to 4 weeks\\nprior to the season, and must be removed within 4 weeks of season\\'s\\nending. The Board has the right to limit any decorations.\\nStreets, Sidewalks Streets, sidewalks, and other portions of the common\\nareas and facilities designed for access shall be used exclusively for normal\\ningress and egress and no obstructions, including parked vehicles, shall be\\nplaced therein unless permitted by the Board of Directors or by these Rules\\nTrash Cans, Recycle Bins, Waste Cans No accumulation of garbage,\\nwaste, paper, boxes, garbage/waste cans, recycle bins, appliances or\\nother inappropriate items shall be placed or stored where visible to others.\\nWhen kept on the premises, common flammable materials such as\\npropane, lawnmower gasoline, etc., must be properly stored in appropriate\\ncontainers (maximum of four containers permitted).\\nYard Maintenance The Declaration for Cedar Falls community provides that\\neach homeowner will maintain his or her landscaping. This maintenance\\nCedar Falls Homeowner Association\\nshall include regular mowing, watering, weeding and pruning. Homeowners\\nwho fail to maintain their yards to a reasonable standard will receive a\\nnotification from the Board of Directors. Those homeowners not willing to\\ncomply with a reasonable standard set by the Board may have their\\nlandscape maintenance done by a contractor appointed by the Board and\\nARTICLE 7.0 ADDITIONAL RESTRICTIONS AND PROHIBITIONS\\nSwimming Pools, Above Ground--Portable or Permanent\\nCarport, Garage Additions PROHIBITED\\nClotheslines No exterior clothesline shall be erected or maintained and\\nthere shall be no drying or laundering of clothes, blankets, beach towels,\\nExisting Ponds and Wetlands There is one wetland area in the Cedar Falls\\ne Homeowners, their children, and their guests are not to enter or travel\\ne Inthe event a homeowner needs access to the wetland, Board permission\\ne Nothing is to be thrown into the wetland. Maintaining the wetland and\\nkeeping it free of rubbish is a community responsibility and expense.\\ne Quiet hours are from 10:00 PMto 8:00 AM seven days a week.\\ne Major construction and remodeling activities shall be carried on in Cedar\\nFalls community only between the hours of 7:00 AM and 7:00 PM.\\ne Norubbish or debris of any kind shall be dumped, placed, or permitted to\\nCedar Falls Homeowner Association\\naccumulate in any portion of the community except in appropriate\\ncontainers and locations provided for its collection.\\nNo resident, contractor, etc. shall operate any machines or equipment in\\nany manner which, inthe judgment of the Board, causes an\\nunreasonable disturbance to others.\\nThe conduct of visitors, in or out of a home, is the responsibility of the owner.\\nIncessant barking of dogs can be very disturbing to the peace and quiet of a\\nneighborhood, and it violates King County Code to harbor such a disturbance.\\nFor more information, see 7.6 Pets.\\nNo animals other than those usually and commonly designated as household\\npets shall be kept on any or in any building or structure upon any lot in Cedar\\nDogs must be on a leash or inthe arms at alltimes when not inthe home\\nor back yard. Dogs may not be left unattended, tied outside a home, on\\npatios or any part of the common areas in homeowner\\'s absence.\\nPet owners shall immediately clean up and remove any defecation or\\nwaste created by their pet in the common areas and front yards. Damage\\ncaused by pets to common areas or facilities may be assessed to the\\nPet owners shall regularly clean up and remove any defecation or waste\\ncreated by their pet in their yard. Visual and odor impact from pet defecation\\nmust not be a problem to neighbors.\\nWell-behaved domestic pets are allowed, however, pet owners are\\nresponsible for their pets. Residents must take allcare required to ensure\\nthat their pets do not disturb other residents by creating a nuisance or\\nexcessive noise or by threatening or assaulting other residents or their\\nIncessant barking of dogs is not permitted by these rules and it also\\nviolates King County Code to harbor such a disturbance. If pet\\nbecomes an annoyance to other residents through regular barking or\\nother misbehaviors, the pet owner must correct the situation.\\nIf you have a life-threatening situation involving both humans and animals,\\nCedar Falls Homeowner Association\\nIf a neighborhood dog or other pet is excessively or continuously barking\\nand you have been unable to solve the problem through communications with\\nthe pet owner and/or the Association Manager, you are encouraged to\\ncontact Regional Animal Services of King County for assistance by calling\\n206-296-PETS (7387), extension 24. The phone hours are Monday through\\nFriday 8:30 a.m. to 5:30 p.m. For more information, see\\nwww.kingcounty.gov/depts/regional-animal-services/animal-control-\\nResidents keeping a pet are jointly and individually responsible for any\\ndamage which their pet may do to the property of another owner.\\nDamage done bya pet to the property of another owner isa matter strictly\\nbetween the pet owner and the person whose property is damaged.\\nThere shall be no breeding of animals for commercial use on the premises.\\nThe Board of Directors may require the removal of any animal which the\\nBoard, in exercise of reasonable discretion, finds disturbing other\\nhomeowners unreasonably or if the owner continues to violate the Rules\\nconcerning pets, and may exercise the authority for specific animals even\\nthough other animals are permitted to remain.\\nSwimming Pools, Above Ground--Portable or Permanent are\\nTree houses, Forts are PROHIBITED.\\nCEDAR FALLS HOMEOWNERS’ ASSOCIATION\\nCedar Falls Homeowner Association\\nProcedures for resolving Complaints\\nEach Owner, and their guests and tenants, shall comply strictly with the Governing\\nDocuments as they may be amended from time to time. This procedure establishes a\\nway to provide a fair and meaningful system for deciding whether the Governing\\nDocuments have been violated and what consequences should be imposed in\\nA formal complaint must be submitted in writing or via e-mail. Anonymous\\ncomplaints or phone complaints shall not be acted upon except in the case of\\nemergency. Send the complaint either to the Property Management Company or\\na member of the Board of Directors.\\nThe Board of Directors will Resolve Complaints\\nOnce the Board of Directors receives a complaint, they will first determine if the\\nissue is within the scope of their powers to resolve. The Board has jurisdiction\\nwhen there is an accusation of a violation of the Declaration, By-Laws, or the\\nRules and Regulations. The Board may decline to address any complaint that\\ndoes not involve a violation of the Declaration, By-Laws, or the Rules and\\nAfter deciding that the Board does have jurisdiction concerning a complaint, a\\nletter will be sent to the party accused of a violation to notify the accused of the\\nlodged complaint. The accused will be asked to provide a response to the\\naccusation in writing to the Board of Directors.\\nThe Board Evaluates the Complaint\\nThe Board will evaluate the original complaint and the accused party’s response.\\nlf the board does not have enough information to make a decision, the Board will\\nask the parties to meet and attempt to resolve the issue. lf either side is unwilling\\nto meet, the Board may offer to have a Board Member act as mediator.\\nifthe Parties Cannot Resolve the Issue\\nThe next step willbe a meeting before a Hearing Board. AHearing Board will\\nconsist of one elected member of the Board of Directors and two volunteers who\\nshall each be homeowners. The parties involved in the dispute will be required to\\nstate their case before the Hearing Board.\\nThe procedures will be simple and informal. The person bringing the complaint\\nwill be the first to state the case. Next, the accused party will have a chance to\\nstate their case. Either party may present evidence. lf witnesses to the\\nCedar Falls Homeowner Association\\ncontents of the complaint exist, they may recount any information they know or\\nsaw. Once both sides have presented their case, the Hearing Board will privately\\ndeliberate and make a decision. This may not necessarily take place on the same\\nThe decision of the Hearing board will be sent to each of the parties in writing\\nthrough the Property Management Company or directly by the Hearing Board.', 'content_type': 'text', 'score': None, 'meta': {'name': 'cedar falls rules_00001.txt'}, 'embedding': None, 'id': 'cc31e63f53fb058a17fe6ca0b81309cd'}>]\n"
          ]
        }
      ]
    },
    {
      "cell_type": "code",
      "source": [
        "print (docs)"
      ],
      "metadata": {
        "colab": {
          "base_uri": "https://localhost:8080/"
        },
        "id": "Md7Cuum6yWom",
        "outputId": "7def3c18-c2f6-4ca7-9242-bf111292e7b0"
      },
      "execution_count": null,
      "outputs": [
        {
          "output_type": "stream",
          "name": "stdout",
          "text": [
            "[<Document: {'content': 'Cedar Falls Homeowner Association\\nUPDATED EFFECTIVE APRIL 26, 2016\\nThe following are the Rules and Regulations adopted by the Board of Directors of\\nCedar Falls Homeowner Association pursuant to the authority granted to the\\nBoard in Article 7 of the Declaration of Cedar Falls.\\nThe following rules, guidelines and standards will give residents information needed to\\nensure improvements and modifications they wish to make to their homes and\\nproperties have a shortened approval process. Projects which do not meet the\\nstandards may not be approved or, if the projects have been completed without prior\\napproval, their removal may be required.\\nWe are living in close association with our fellow residents and common courtesy\\ndictates that our actions not infringe on the rights of other residents. These Rules\\nare designed to ensure that each of us achieves the maximum enjoyment of our\\nhomes. Each member of the community whether owner, tenant or guest, must\\nabide by the standards of the community and comply with the Declaration, Bylaws\\nand these Rules and Regulations. Adherence to the Rules will help to promote a\\n\"good neighbor\" atmosphere within the community.\\nAll owners received initial copies of the Declaration and Bylaws at the close of\\nescrow. The management company supplies initial copy of the Rules &\\nRegulations after the close of escrow. All owners can obtain copies of the current\\ngoverning documents, financial information, minutes of Board Meetings or any\\nother pertinent information by contacting the Association Manager with Morris\\nManagement, at 425-283-5858 or info@morrismanagement.com.\\nEach owner is fully responsible for the compliance of their family members,\\nguests, tenants and other occupants of the owner\\'s home while they are within\\nthe boundaries of Cedar Falls. The Board may impose monetary fines not to exceed\\n$150 for Rules violations, in addition to its right to pursue continuing fines, legal\\nremedies or other remedial actions as set forth in the Rules and Regulations.\\nFines assessed against an Owner shall be collectible as delinquent assessments.\\nFines will be payable to Cedar Falls Homeowner Association within 15 days of\\nARTICLE 1.0 COMPLAINT PROCEDURE AND ENFORCEMENT\\n1.1. The Board of Directors has the authority to enforce the Rules. Please notify\\nthe Association Manager or a Board member in writing or by email if\\nthere is a problem. The Board has delegated to the Association ManagerRules and Regulations\\nCedar Falls Homeowner Association\\nthe authority to take Rules enforcement action consistent with the Due\\nProcess Rules Enforcement Procedures, (Appendix A, attached) including\\ncontacting violators to seek compliance and issuing warnings.\\n1.2 Homeowners are responsible for the conduct of all members of their family\\nor household and for the conduct of their tenants and guests and each\\nhomeowner and tenant are jointly and individually financially responsible for\\nany damage done to property of other owners by any members of their\\nfamily or household, their tenants or their guests. Both the homeowner\\nand a non-owner violator may be penalized for violation of the Rules.\\nPenalties assessed against the homeowner shall be collectible as delinquent\\n1.3. Enforcement of the provisions of the Declaration, Bylaws and Rules and\\nRegulations shall be done in accordance with Due Process Rules\\nEnforcement Procedures which may be adopted and amended from time\\nto time and may be part of the Bylaws or the Rules.\\n2.1 “Assessment” means allsums chargeable by the Association against an\\nOwner, including without limitation regular and special Assessments, fines\\nimposed bythe Association, interest and late charges on any delinquent\\naccount, costs of collection, including reasonable attorney\\'s fees, incurred\\nby the Association in connection with the collection of a delinquent Owner\\'s\\naccount, costs and attorney\\'s fees incurred by the Association in\\nconnection with the enforcement of the Governing Documents, and all\\nothersums payable by an Owner to the Association as provided inthe\\n2.2 Regular monthly Assessments are due on the first day of every month. A\\nlate fee of $10.00 per month will be assessed by the Association against any\\nAssessment account which is not paid in full by the 15th day of the month.\\n2.3 In addition to the late fee, an administrative fee of $25.00 will be assessed\\nagainst any account which is 60 days past due. This fee may be applied in\\neach subsequent month during which the assessments are unpaid.\\nARTICLE 3.0 EXTERIOR CONDITIONS\\nIn order to preserve the uniform appearance of the community, the Board of\\nDirectors will have the sole authority over modifications to exterior elements and\\nstructures. Included in the list below are many, but not all standards or criteria that the\\nBoard will consider. It is important for Owners to understand that approval or rejection of\\nan improvement is often based on overall aesthetic impact, which is a very subjective\\nissue. Further, not all homes and lots are the same and the aesthetic impact anRules and Regulations\\nCedar Falls Homeowner Association\\nimprovement may have in one location may be different than another.\\nACC approval is required prior to any exterior alterations or additions to any lot, living\\nunit or structure thereon unless specified in Section 6.0 as not needing ACC approval.\\nWhen making decisions regarding the following list, the Board shall consider the criteria\\nset forth below, and the ACC Review Criteria set forth in Section 5.0.\\nRegulated alterations NOT requiring ACC Review are detailed in Section 6.0.\\nModifications to the exterior of existing elements and structures requiring ACC\\nReview, including but are not limited to:\\n*Dog Houses, Dog Runs, Dog Pens, Dog Doors\\nFront Doors, Storm/Screen Doors\\nGardens (See Vegetable Gardens)\\n*Hot Tubs, Swimming Pools, Fountains, Water Features\\n*Landscaping: Front and Exposed Side Yards\\n*Planters, Planter Boxes, and Garden Beds\\nPlay Structures (See Recreational Play Equipment or Structures)\\n*Recreational Play Equipment or Structures\\nStorage Temporary structuresRules and Regulations\\nCedar Falls Homeowner Association\\n*Trees (See Section 6.0 Tree and Large Vegetation Policy)\\n*Standards to assist in ACC Application detailed below\\nThe restrictions for alteration of the above on private property, in addition to any\\nalteration of the common areas and facilities, require prior Architectural Control\\nCommittee (ACC) approval from the Board of Directors. The ACC process is detailed\\nIn order to gain a prompt ACC review and project approval, proposed improvements\\nshould adhere to the below standards. Proposed improvements outside these standards\\nwill also be reviewed, but cannot be expedited. You may be contacted by an ACC\\nrepresentative for additional information about your project.\\n1. Window air conditioning units or other appliances protruding from windows\\nare prohibited in the front of the house. Window air conditioning units\\nprotruding from the side yard may require visual screening.\\n2. Air conditioning units and/or heat pumps must be located so they are not\\nvisible from the street or sidewalk. Air conditioning units or heat pumps shall\\nbe installed in rear and side yards only.\\n3. Air conditioning units or heat pumps with sound dampening technology are\\n3.2 Arbors shall not exceed ten (10) feet in height from the ground. Arbors are\\npermitted on decks, patios, fences, gates, or can be a freestanding decorative\\nelement. If attached to a deck, fence or gate, the material and color must be the\\nsame as the deck, fence or gate, to which it is attached.\\nCedar Falls Homeowner Association\\nArtificial Turf can only be installed in side and rear yards that are fenced and\\nnot visible from the street or sidewalk.\\nArtwork and Sculptures In the front yard, art, sculptures or commissioned\\npieces shall not exceed of 30\" in height. In fenced side or rear yards art,\\nsculptures or commissioned pieces not to exceed ten (10) feet in height from the\\nground are permitted with approval.\\nAwnings Retractable awnings over patios or decks with suitable dimensions\\nshall be permitted on the rear of the house. Fixed awnings are PROHIBITED.\\nAwnings must be kept in such a manner that they do not appear sun-faded,\\nappear to have mildew or mold, and must complement the color of the house\\nCompost Bins Compost must be enclosed in an animal proof container or bin.\\nVisual and odor impact must not be a problem to neighbors. If the above situation\\nexists it shall result in removal of the bin. Pest control is the responsibility of the\\ncompost bin owner. Bins must be kept in the rear of the Lot. The bin shall not be\\nover four (4) feet high and not exceed sixteen (16) cubic feet.\\nDecks, Balconies Decks and/or balconies shall be approved based on size,\\nmaterial and location. Deck size shall be compatible with the house and lot size.\\nMaterial and location shall be compatible with existing approved decks in the\\narea. Decks shall be compatible in materials and color with the applicant\\'s house.\\nScreenings and / or plantings may be required to soften visual impact.\\nDoghouses, Dog Runs, Dog Pens, Doggie Doors Doghouses, Runs and Pens\\nshall be compatible with the applicant\\'s house in terms of color and material.\\nThey must be located where they are visually unobtrusive to neighbors and the\\nuse of plantings to screen them may be required. Visual and odor impact must\\nnot be a problem to neighbors. Doggie Doors must be located in the rear yard\\nand exit to a yard with a fence.\\nGrills, Permanent Grills must be placed in the backyard only. Grills must be\\nconstructed in compliance with building and fire codes.\\nHot Tubs/Swimming Pools/Fountains/Water features\\ne Small portable children’s wading pools may be permitted as outlined in 3.17\\ne Below ground pools, hot tubs (below and above ground), fountains and water\\nfeatures must be located behind a 5’ wood fence.Rules and Regulations\\nCedar Falls Homeowner Association\\ne Hot tubs, pools, fountains and water features may not be located in a front or\\nside yard adjacent to neighbors.\\ne Materials shall blend with the natural surroundings, or have screening installed\\nand be color compatible to match the surrounding area.\\ne Pump equipment, water features and fountains shall be located a minimum of\\nten (10) feet from all property lines or enclosed to minimize the impact of noise\\non adjacent neighbors. See 7.5 Noise and Offensive Activities for quiet\\ne Responsibility and liability associated with the pool, hot tub, water feature, and\\nfountain rests with the owner/operator.\\nIn-Home Business An Owner or Resident may conduct business activities\\ne The existence or operation of the business activity is not apparent or\\ndetectable by sight, sound or smell from outside the home.\\ne The business activity conforms to all zoning requirement for the\\ne The business activity does not involve regular visitation of the home by\\nclients, customers, suppliers, or other business invitees or door-to-door\\nsolicitation of residents of the community.\\ne The business activity is consistent with the residential character of the\\ncommunity and does not constitute a nuisance, or a hazardous or\\noffensive use, or threaten the security or safety of other residents of the\\ncommunity, as may be determined inthe sole discretion of the Board of\\nLandscaping: Front and Exposed Side Yards Trees, shrubs, or any other\\nplantings that are of a different variety than those originally found in the front and\\nexposed side yard landscaping shall be compatible with the surrounding area.\\nLandscaping rocks, edging, pavers, etc. shall be compatible with surrounding\\narea. Landscaping rocks should be displayed in conjunction with greenery\\nand shall not be the focal point of a landscaped bed. Size, color, type of\\nstone, positioning, and appropriateness may be criteria for approval of\\nlandscaping rocks. Planting similar plants, trees, or shrubs in the front and\\nexposed side yards to replace landscaping that is dead or dying is permitted\\nOutbuildings Sheds, greenhouses, doghouses, and any other out building must\\nbe compatible with the style, color and composition of the main house and\\nCedar Falls Homeowner Association\\nmaintained to the same level of repair as the main house. Out buildings cannot\\nexceed ten (10) feet in width/length by twelve (12) feet width/length by ten (10)\\nfeet high. Visual screen can be required. Metal or canvas sheds or buildings are\\nPainting and Paint Colors Color of stains and paints shall be compatible with\\nthe color of other houses in the neighborhood. Color chips of proposed stains\\nand paints must be submitted along with the ACC application. An application is\\nnot required in order to repaint or re-stain structures to match the original color.\\nPatios and Patio Additions Patios, patio additions, decks, etc. shall be not large\\nenough for the yard to have more than 75% impervious area. A minimum of 25%\\npervious area must be maintained in the front yard, back yard and side yards.\\nPlanters, Planter Boxes and Garden Beds\\ne Homes were built with window planters. Built in, unmovable additional planter,\\nplanter boxes and garden beds, etc. are PROHIBITED in the front yard.\\ne Planters and raised garden beds in the backyard shall match and/or\\ncoordinate with the home’s exterior paint or be constructed with “non toxic”\\ne Recreation and play equipment include play forts, play houses, swing sets,\\nclimbing apparatus, skateboard ramps, basketball hoops, putting greens,\\nsandboxes, trampolines and other portable and non-portable play structures\\nor equipment, whether permanent or temporary.\\ne The number of recreation and play equipment allowed on any lot is\\ndependent upon the lot size and impact on adjacent properties. No more than\\none of each type of play structure will be permitted on any lot.\\ne Recreation and play equipment shall be in the rear yard unless otherwise\\nspecified. Exceptions include preapproved freestanding basketball hoops,\\nskateboard ramps, and other items requiring the use of driveways as playing\\ne Playground & sports equipment must be tasteful in appearance. Equipment\\nthat clashes unduly with the dwelling or with its immediate surroundings shall\\nnot be permitted. Playground & sports equipment finished in subdued colors\\nthat blend with the surroundings is preferred. Bright, garish colors or\\nfluorescent finishes shall not be permitted.Rules and Regulations\\nCedar Falls Homeowner Association\\ne Playground equipment shall be located no closer than ten (10) feet from all\\nproperty lines. The location should be as unobtrusive as possible, ideally\\ndirectly behind the house to provide maximum shielding from public view.\\ne Playground equipment’s scale, size and color shall be compatible with the\\nhome and surrounding areas. Play equipment shall not cover more than 15%\\nof the total backyard area. If a house has more than one piece of equipment,\\ncare should be taken to match the equipment as well as possible.\\ne The maximum overhead play equipment height is ten (10) feet. However, in\\nsome locations, a 10 foot play structure may not be approved depending on\\nan evaluation of the impact on surroundings, privacy, views and other details\\ne Visual screens may be required to be installed to soften or screen the\\nequipment if the equipment is located in a manner that would otherwise\\ndetract from the overall look of the community.\\ne Playground equipment shall be constructed primarily of wood and stained a\\nnatural color. Canvas awnings or roofs must be muted shades and without\\npatterns. No striped or camouflage canvases are allowed. Composition\\nshingle roofing must be compatible with the dwelling roof.\\ne Metal material is allowed for basketball backboard poles and trampolines.\\ne Trampolines may not exceed 15 feet in diameter.\\ne Trampoline accessories permitted include, but are not limited to, poles,\\npadded covers and netting in muted shades. No banners are allowed on\\ne Sandboxes shall be kept in a neat and tidy condition, preferably covered\\ne Putting greens shall only be located in the rear and/or side yard and must not\\nresult in an unreasonable or disproportionate impact on neighboring\\nproperties. The area permitted for putting greens on any lot will be dependent\\nupon the lot size and impact on adjacent properties. Additional screening\\ne Freestanding basketball hoops are allowed in the driveway with prior ACC\\napproval. Freestanding basketball hoops must remain behind the sidewalk,\\npreferably as close to the house/garage as possible. Fixed basketball hoops\\nin the front yard are prohibited.Rules and Regulations\\nCedar Falls Homeowner Association\\nSkateboard ramps may be placed in driveways only when in actual use and\\npreferably as close to the house / garage as possible. Skateboard ramps\\nmust be stored out of public view when not in use.\\nPortable toys or play equipment (e.g., bicycles, wading pools, yard game\\nequipment, sandboxes, hockey and soccer goals and portable skateboard\\nramps) must be stored so they cannot be seen from the street and adjacent\\nproperty at ground level when not in use.\\nPlayground & sports equipment considered obtrusive by the BOD shall not be\\nAll recreation and play equipment must be maintained to a reasonable\\nstandard. The Board reserves the right to repair or remove any equipment\\nthat is not kept in a reasonable state of repair at the homeowner\\'s expense\\nprovided that the homeowner has received reasonable warning to repair the\\n3.18 Satellite Dishes A satellite dish may not be installed without written approval\\nof the Board of Directors. Satellite dishes may be installed under the\\nSatellite dished mush be gray in color and contain no advertising.\\nA satellite dish may not exceed one meter in diameter.\\nAll satellite dishes must be installed in a location approved by the Board.\\nBefore scheduling an appointment for installation, Unit Owner must\\ncomplete and submit to the Association an ACC Request Form and obtain\\napproval for the installation from the Association. The Unit Owner will be\\nsolely responsible for any and all personal injuries and property damage\\narising either in connection with or as a result of the installation and use of\\na Satellite dish system. The Unit owner shall indemnify and hold the\\nAssociation harmless against any and all claims, lawsuits, losses,\\nliabilities or expenses of any kind or nature whatsoever (including\\nattorneys’ fees and costs) arising as a result of any such personal\\nSiding Replacement A sample of any proposed siding must be submitted\\nwith ACC application. Replacement of existing siding with identical\\nmaterial and color does not require an ACC application. However\\nnotification of ACC and adjacent households is strongly recommended.\\nSigns Placement or posting of any object on the exterior of any home or\\ncommon area such as signs or flags unless otherwise specified below\\nCedar Falls Homeowner Association\\nrequires prior ACC approval. Unless otherwise specified, all sign installations\\nmust take place behind the sidewalk. No signs shall be installed in the common\\nplanter beds, rain gardens, or common areas.\\ne One sign per political campaign or ballot issue is allowed. The sign(s) shall\\nnot exceed twenty-eight (28) by twenty-two (22) inches in size. Signs must be\\nremoved within 4 days after the primary or general election to which they\\ne Except for political yard signs, no signs shall be displayed to the public view\\non any Lot or living unit except one of not more than 5 square feet advertising\\nthe Lot or Living Unit for sale or rent.\\ne Real Estate Signs of the \"A\" board type or directional arrows are allowed on\\nthe common areas only during staffed open houses.\\ne Homeowners are allowed one sign displaying the name of their security\\ne Except as specifically provided in this Section, no other signs, pictures or\\nposters of any kind shall be displayed to the public view on or from any\\nhome or from the common areas and facilities without the consent of the\\n3.21 Trellises/Pergolas Trellises’ and pergolas’ scale, size and color should be\\ncompatible with the home and surrounding areas. The maximum overhead\\ntrellis/pergola height is ten (10) feet. However, in some locations, a 10 foot\\ntrellis/pergola may not be approved depending on an evaluation of the impact on\\nsurroundings, privacy, views and other details deemed relevant.\\n3.22 Vegetable Gardens Gardens should be located behind the house, out\\nof public view. Vegetable gardens in the front yards must be in portable pots\\nor containers (not fixed or raised beds). Approved front yard vegetable potted\\ngardens shall be installed in keeping with the appearance of the community and\\nmaintained to a reasonable standard. The installation of tomato cages, fences,\\nfixed raised beds, etc. in a front yard garden is prohibited.\\nCedar Falls Homeowner Association\\nARTICLE 4.0 TREE AND LARGE VEGETATION POLICY\\nIt is clear that the developer of the Cedar Falls Community intended for a substantial\\npart of the neighborhood to have some degree of view of surrounding mountains, Mt Si,\\nRattlesnake Ridge, etc. Property values are directly tied to the maintenance of existing\\nviews. To this end, the Vegetation Policy shall be administered by the Board of\\nDirectors and Architectural Control Committee in accordance with these approved Rules\\nand Regulations. Neighbors should always try to resolve their view issues themselves\\nbefore involving the Cedar Falls Board of Directors. The Cedar Falls Board of Directors\\nhas the last word in resolving these issues.\\n4.1 Installation of Trees and Large Vegetation\\n1. Planted vegetation and trees shall not be permitted to unreasonably infringe\\non the views of neighboring properties. Committee-recommended actions to\\nremedy such view infringement may be enforced by the Cedar Falls Board of\\nDirectors. In general, trees that will stand higher than the roofline or thirty (30)\\nfeet at maturity, whichever is greater, may not be approved.\\n2. Trees shall be a variety tolerant of selective pruning without topping.\\n3. Trees shall be placed so as not to completely blocks views or sun from\\n4. Trees and landscaping shall not be installed in a group or line to create a\\nscreen over ten (10) feet high. Three (3) trees or more in a row shall be\\nconsidered to constitute a visual screen if planted close enough together so\\nthat at maturity, their branches visually touch or intertwine.\\n5. Trees and landscaping shall be planted in a location that eliminates the\\npotential for encroachment onto neighboring property or shared spaces, such\\nas shared fences and common property.\\n6. Homeowner planted trees and shrubs that are located on your property, that\\nare visible from your neighbors’ home active living areas, need to be\\nmaintained at a height that is at or below your homes maximum roof height or\\nthirty (30) feet, whichever is greater, when viewed from the neighboring active\\nliving areas. These standards are included for the purpose of maintaining\\nviews, rather than the creation of views. Ridge heights of existing structures\\nshall serve as a guideline for maximum tree heights. However, certain trees\\nor shrubs may be determined to obstruct neighboring views even if such trees\\nor shrubs are below ridge height.\\n7. The Living Room, the Dining Room, the Kitchen, and the Family Room are\\nconsidered to be the minimum active living areas in the home. Other areas\\nCedar Falls Homeowner Association\\naround the home may also be considered as active living areas depending on\\nthe design of the home and the residents’ lifestyle. The Board of Directors will\\nmake the final decision as to what areas are considered the home active\\n8. If planted trees grow to obstruct your neighbors view or encroach on\\nneighboring property, the Cedar Falls Board of Directors has the authority to\\norder landscape trimming or removal. The Board of Directors and/or\\nArchitectural Control Committee reviews each view violation, which cannot be\\nsolved directly by the neighbors involved and determines what needs to be\\ndone to remedy the situation. Violation fines start at $150 per month\\nminimum, but may be assessed more often depending on the severity of the\\n9. If violation fines do not result in remediation, the BOD may suggest all parties\\nNote: The Complaining Party and the View Obstructer shall each pay for 50% of\\nthe Mediation costs. The View Obstructer shall pay all of the Cedar Falls Board\\nof Director assessed violation fines and shall pay for removing all of the view\\nobstructions. Nothing herein shall prevent either party from seeking appropriate\\nrelief in court if mediation has proved unsuccessful. The Court shall decide who\\nRemoving, Altering or Installing Trees on Private Land Homeowners wishing\\nto remove trees, top trees or install trees on their own lots must follow the\\nprocedures outlined by the Architectural Control Committee (ACC) and submit an\\napplication prior to doing any work with the following exceptions:\\ne Homeowners may prune trees on their own lots without application to the ACC\\ne Homeowners may replace dead or dying trees on their own lots with the same\\ntype of tree in the same location without application to the ACC.\\nFallen Trees on Private Land Some properties have old trees retained from\\nbefore the development was built. Other properties border forested areas with\\nlarge trees. By deciding to purchase a home with tall mature trees on the\\nproperty or near the property, the homeowner is assumed to know the inherent\\nrisks of trees falling on to their property. These homeowners are advised to\\nmaintain adequate insurance coverage to cover property damage and the costs\\nfor removal of fallen trees from their property. In the event of a fallen tree onto\\nthe homeowner\\'s lot, the homeowner may remove the fallen tree immediately in\\nconjunction with filing their insurance claim. The cost to remove a fallen tree is\\nthe responsibility of the owner of the land where the fallen tree lies.\\nTrees on Common or Public Land No resident may add, alter or remove any\\ntrees in the common areas, wetlands, parks, sensitive areas or on private land\\nCedar Falls Homeowner Association\\nwithout advance written approval of the ACC and/or the appropriate\\ngovernmental agency and/or property owner. Violators of the rules are subject to\\nfines and penalties as outlined in the Association’s rules. In addition, the\\nhomeowner in violation is responsible for all costs and fines levied by any\\nHazardous Trees on Public Land Hazardous trees, defined as dead, declining\\nor trees oriented in such a way as to create a potential danger to property or\\npeople may be eligible for removal or alteration. View enhancement or view\\nmaintenance is not a valid reason for tree removal or alteration. These trees\\nrequire prior approval of the relevant governing body before they can be touched.\\nTo determine whether a hazardous tree is on Association, City or County land,\\nplease contact the Community Manager.\\nCedar Falls Community Trees Association trees, located in the medians,\\nstreetscapes and Association-owned land and parks, shall be maintained by the\\nAssociation. Removal and cost assessment decisions for Association trees shall\\nbe made by the Board of Directors. Removal costs may be paid by either the\\nAssociation, or levied as a specific assessment to the impacted Homeowner(s).\\nFor questions regarding Association trees or to report a hazardous tree, contact\\nARTICLE 5.0 ARCHITECTURAL CONTROL COMMITTEE REVIEW\\nAll exterior alterations or additions to property as described above require prior written\\nArchitectural Control Committee (ACC) approval. In the event the homeowners\\' panel of\\nthe ACC is not appointed by the Board, then the Board will discharge the duties of the\\nACC. This requirement applies to sub-associations as well as individual homeowners.\\n1. Submittal of a completed ACC form to the Association Manager\\n2. Additional information may be required from homeowner.\\n3. Review by ACC Committee and/or Board of up to 30 days from the time the\\nsubmitted application is considered complete as determined by the\\n4. Applications which do not meet standards outlined in the Cedar Falls Rules\\nand Regulations may require a review of over 30 days. .\\n5. Written approval or denial of the request\\n6. Approved modifications may commence upon receipt of written approval\\nHomeowners must obtain ACC approval before starting a new project,\\naddition, modification, or improvement. Once ACC approval is obtained,\\nhomeowners must follow the guidelines and requirements of the approval.\\nThe fine for violation of any of the above rules is $150. Homeowners\\ndetermined to be in violation of current required standards, or who fail to bring\\nCedar Falls Homeowner Association\\nthe property into compliance after notice has been provided, may be subject to\\ncontinuing fines or potential legal action.\\nCity of North Bend approval does not eliminate the requirement for ACC\\napproval. ACC approval does not eliminate the requirement for City of North\\nBend approval. Homeowners are responsible for determining if the proposed\\nproject requires City of North Bend approval and are required to obtain any\\nrequired city approvals before any work is begun. Homeowners must maintain\\nCity of North Bend required setbacks as shown on the permit, if one is required—\\nor as set forth in City of North Bend Building and Zoning Codes.\\nMaintenance projects do not require ACC approval. For example, no ACC\\napplication is required to be submitted for repainting or restaining structures to\\nmatch the original color or for replacing dead plants in the front yard with similar\\nMaking an Application to the ACC See ACC Application for instructions.\\nACC Review Criteria: The ACC evaluates all submissions on the individual\\nmerits of the application. By their nature many ACC evaluations involve the\\napplication of subjective opinions—a fact that cannot be avoided. The following\\ncriteria will be applied in evaluating ACC requests.\\ne The proposed alterations must be compatible with the architectural\\ncharacteristics of the applicant\\'s house, adjoining houses and the\\nneighborhood setting. Yard improvements, both soft (landscaping) and hard\\n(paver, rock, etc.) shall be compatible with the character of the neighborhood.\\ne Compatibility is defined as similarity in style and quality of workmanship,\\nsimilar use of materials, colors, size, scale and construction details.\\n* The proposed alteration should not detract from the existing landscape, the\\nexisting structure and the neighborhood or unduly impact surrounding\\ne All adjacent property owners/households who might be impacted must be\\nnotified of the proposed project.\\ne Concerns from adjacent households, which cannot be mitigated or addressed\\nby modifications to the proposal will be taken into consideration by the ACC.\\n* All height restrictions are based on the grade directly below the structure at\\nany given point. If not specified, height is restricted to ten (10) feet.\\n¢ Footprint of the structure may not exceed ten (10) feet by twelve (12) feet\\nCedar Falls Homeowner Association\\n« Any alteration of property cannot create a drainage issue to the homeowner\\nproperty or neighboring properties.\\ne Each property was designed with existing storm drainage to contain all storm\\nwater on site. If proposed project requires alteration of the existing storm\\ndrainage system, for example due to a patio’s placement, certification from a\\nprofessional landscaper, civil engineer or the equivalent that all site’s storm\\nwater shall be collected into the revised drainage system and infiltrated on-\\nThe ACC Committee may make periodic inspection.\\nARTICLE 6.0 REGULATED ALTERATIONS TO EXISTING ENVIRONMENT\\nNEEDING NO ARCHITECTURAL CONTROL COMMITTEE REVIEW\\nTrash Cans, Recycle Bins, Waste Containers\\nCurtains, Drapes, Blinds Curtains or drapes must be backed with fabric of\\nwhite or off-white color and blinds must be of neutral or natural color tones.\\nWindow coverings not meeting these criteria must be approved by the\\nFences Nothing may be placed or hung over shared fences/railings, or nailed\\ninto fences/railings where visible to the street.\\nFlagpoles, Flags An owner may install two flag holders attached to the house\\nwithout prior ACC approval—one to display the US flag and one for seasonal\\ndisplays. However, all flag displays must comply with Federal Flag Display Law\\nguides and the Washington Administrative Code. Flags size shall not exceed\\nthree (3) feet by five (5) feet. Freestanding flagpoles are PROHIBITTED.\\ne Each homeowner is responsible for obtaining at his or her own\\nCedar Falls Homeowner Association\\nexpense, insurance covering his or her property not insured under the\\nAssociation’s Insurance policy explained in the Declaration.\\nNo homeowner or occupant shall permit anything to be done or kept in\\nthe homes or inthe common (or limited common) areas and facilities\\nwhich will increase the insurance premiums of the Association or result in\\nthe cancellation of such insurance on any home or in part of the\\ncommon areas and facilities, without the consent of the Board of\\nTo maintain parking availability, no garage shall be used for a storage,\\nwork, or shop area, ifsuch use impairs the ability of the owner of the\\ngarage to park the designated number of vehicles therein.\\nAll vehicles parked at the Community shall bear valid license plates and\\nNo motor rebuilds, bodywork or major vehicle repairs or oil changes shall\\nbe done on the property except in enclosed garages. Owners shall be\\nresponsible for cleaning any oil drips on their driveways.\\nOther than operative passenger motor vehicles, no equipment, mobile\\nhomes, trailers, commercial trucks, full-sized vans, campers, boats, RV\\'s,\\njet skis, or other motorized vehicles, shall be parked, kept, maintained,\\nplaced, constructed, remodeled, reconstructed or repaired inthe\\ndriveway or along any drive lane of the community. The Board of\\nDirectors may require removal by the owner of any improperly parked\\nvehicle, inoperative or unsightly vehicle, and any other equipment or\\nitems improperly stored on the drive lanes of the community. If the same is\\nnot removed, the Board may cause removal at the risk and expense ofthe\\nSpeeding and unsafe driving is prohibited.\\nAll streets in the community, including the three park loops, are public right-of-\\nway, owned and operated by the City of North Bend.\\nStreet maintenance concerns/requests should be made directly to the City of\\nTraffic or parking enforcement requests would best be addressed through the\\nCity of Snoqualmie Police Department, which provides police service in North\\nBend. Call 911 for emergencies or 425-888-3333 for non emergencies.\\nCedar Falls Homeowner Association\\ne Owners renting or leasing theirhomes shall provide the Board or\\nManagement Company with a copy of the tenant\\'s written rental\\nagreement and a check for the move in fee of $150.\\ne Owners shall provide their current address as well as home and alternative\\ntelephone and contact information to the Association office.\\ne Owners renting or leasing their home must provide their tenants with a\\ncopy of all Rules and Regulations of the community. Owners will be\\nnotified of tenant\\'s failure to comply with the Rules and will be held\\nfinancially responsible for any fines assessed for violations of the Rules\\nby their tenants or their tenant\\'s guests. Owners will also be held\\nfinancially responsible for costs incurred for any damage caused by\\ntenants or their guests to any area of the common area of the\\ne Owners shall provide the names, contact information, and vehicle\\nidentification information of their tenants to the Association Manager.\\nAdditionally, Owners shall provide their own off-sitecontact information to\\ne |fan Owner fails to evict a tenant who is in continuing violation of the\\nRules, the Board of Directors may take appropriate action to do so and\\ncharge the Owner for the expenses incurred.\\nSeasonal Decorations Seasonal decorations may be installed up to 4 weeks\\nprior to the season, and must be removed within 4 weeks of season\\'s\\nending. The Board has the right to limit any decorations.\\nStreets, Sidewalks Streets, sidewalks, and other portions of the common\\nareas and facilities designed for access shall be used exclusively for normal\\ningress and egress and no obstructions, including parked vehicles, shall be\\nplaced therein unless permitted by the Board of Directors or by these Rules\\nTrash Cans, Recycle Bins, Waste Cans No accumulation of garbage,\\nwaste, paper, boxes, garbage/waste cans, recycle bins, appliances or\\nother inappropriate items shall be placed or stored where visible to others.\\nWhen kept on the premises, common flammable materials such as\\npropane, lawnmower gasoline, etc., must be properly stored in appropriate\\ncontainers (maximum of four containers permitted).\\nYard Maintenance The Declaration for Cedar Falls community provides that\\neach homeowner will maintain his or her landscaping. This maintenance\\nCedar Falls Homeowner Association\\nshall include regular mowing, watering, weeding and pruning. Homeowners\\nwho fail to maintain their yards to a reasonable standard will receive a\\nnotification from the Board of Directors. Those homeowners not willing to\\ncomply with a reasonable standard set by the Board may have their\\nlandscape maintenance done by a contractor appointed by the Board and\\nARTICLE 7.0 ADDITIONAL RESTRICTIONS AND PROHIBITIONS\\nSwimming Pools, Above Ground--Portable or Permanent\\nCarport, Garage Additions PROHIBITED\\nClotheslines No exterior clothesline shall be erected or maintained and\\nthere shall be no drying or laundering of clothes, blankets, beach towels,\\nExisting Ponds and Wetlands There is one wetland area in the Cedar Falls\\ne Homeowners, their children, and their guests are not to enter or travel\\ne Inthe event a homeowner needs access to the wetland, Board permission\\ne Nothing is to be thrown into the wetland. Maintaining the wetland and\\nkeeping it free of rubbish is a community responsibility and expense.\\ne Quiet hours are from 10:00 PMto 8:00 AM seven days a week.\\ne Major construction and remodeling activities shall be carried on in Cedar\\nFalls community only between the hours of 7:00 AM and 7:00 PM.\\ne Norubbish or debris of any kind shall be dumped, placed, or permitted to\\nCedar Falls Homeowner Association\\naccumulate in any portion of the community except in appropriate\\ncontainers and locations provided for its collection.\\nNo resident, contractor, etc. shall operate any machines or equipment in\\nany manner which, inthe judgment of the Board, causes an\\nunreasonable disturbance to others.\\nThe conduct of visitors, in or out of a home, is the responsibility of the owner.\\nIncessant barking of dogs can be very disturbing to the peace and quiet of a\\nneighborhood, and it violates King County Code to harbor such a disturbance.\\nFor more information, see 7.6 Pets.\\nNo animals other than those usually and commonly designated as household\\npets shall be kept on any or in any building or structure upon any lot in Cedar\\nDogs must be on a leash or inthe arms at alltimes when not inthe home\\nor back yard. Dogs may not be left unattended, tied outside a home, on\\npatios or any part of the common areas in homeowner\\'s absence.\\nPet owners shall immediately clean up and remove any defecation or\\nwaste created by their pet in the common areas and front yards. Damage\\ncaused by pets to common areas or facilities may be assessed to the\\nPet owners shall regularly clean up and remove any defecation or waste\\ncreated by their pet in their yard. Visual and odor impact from pet defecation\\nmust not be a problem to neighbors.\\nWell-behaved domestic pets are allowed, however, pet owners are\\nresponsible for their pets. Residents must take allcare required to ensure\\nthat their pets do not disturb other residents by creating a nuisance or\\nexcessive noise or by threatening or assaulting other residents or their\\nIncessant barking of dogs is not permitted by these rules and it also\\nviolates King County Code to harbor such a disturbance. If pet\\nbecomes an annoyance to other residents through regular barking or\\nother misbehaviors, the pet owner must correct the situation.\\nIf you have a life-threatening situation involving both humans and animals,\\nCedar Falls Homeowner Association\\nIf a neighborhood dog or other pet is excessively or continuously barking\\nand you have been unable to solve the problem through communications with\\nthe pet owner and/or the Association Manager, you are encouraged to\\ncontact Regional Animal Services of King County for assistance by calling\\n206-296-PETS (7387), extension 24. The phone hours are Monday through\\nFriday 8:30 a.m. to 5:30 p.m. For more information, see\\nwww.kingcounty.gov/depts/regional-animal-services/animal-control-\\nResidents keeping a pet are jointly and individually responsible for any\\ndamage which their pet may do to the property of another owner.\\nDamage done bya pet to the property of another owner isa matter strictly\\nbetween the pet owner and the person whose property is damaged.\\nThere shall be no breeding of animals for commercial use on the premises.\\nThe Board of Directors may require the removal of any animal which the\\nBoard, in exercise of reasonable discretion, finds disturbing other\\nhomeowners unreasonably or if the owner continues to violate the Rules\\nconcerning pets, and may exercise the authority for specific animals even\\nthough other animals are permitted to remain.\\nSwimming Pools, Above Ground--Portable or Permanent are\\nTree houses, Forts are PROHIBITED.\\nCEDAR FALLS HOMEOWNERS’ ASSOCIATION\\nCedar Falls Homeowner Association\\nProcedures for resolving Complaints\\nEach Owner, and their guests and tenants, shall comply strictly with the Governing\\nDocuments as they may be amended from time to time. This procedure establishes a\\nway to provide a fair and meaningful system for deciding whether the Governing\\nDocuments have been violated and what consequences should be imposed in\\nA formal complaint must be submitted in writing or via e-mail. Anonymous\\ncomplaints or phone complaints shall not be acted upon except in the case of\\nemergency. Send the complaint either to the Property Management Company or\\na member of the Board of Directors.\\nThe Board of Directors will Resolve Complaints\\nOnce the Board of Directors receives a complaint, they will first determine if the\\nissue is within the scope of their powers to resolve. The Board has jurisdiction\\nwhen there is an accusation of a violation of the Declaration, By-Laws, or the\\nRules and Regulations. The Board may decline to address any complaint that\\ndoes not involve a violation of the Declaration, By-Laws, or the Rules and\\nAfter deciding that the Board does have jurisdiction concerning a complaint, a\\nletter will be sent to the party accused of a violation to notify the accused of the\\nlodged complaint. The accused will be asked to provide a response to the\\naccusation in writing to the Board of Directors.\\nThe Board Evaluates the Complaint\\nThe Board will evaluate the original complaint and the accused party’s response.\\nlf the board does not have enough information to make a decision, the Board will\\nask the parties to meet and attempt to resolve the issue. lf either side is unwilling\\nto meet, the Board may offer to have a Board Member act as mediator.\\nifthe Parties Cannot Resolve the Issue\\nThe next step willbe a meeting before a Hearing Board. AHearing Board will\\nconsist of one elected member of the Board of Directors and two volunteers who\\nshall each be homeowners. The parties involved in the dispute will be required to\\nstate their case before the Hearing Board.\\nThe procedures will be simple and informal. The person bringing the complaint\\nwill be the first to state the case. Next, the accused party will have a chance to\\nstate their case. Either party may present evidence. lf witnesses to the\\nCedar Falls Homeowner Association\\ncontents of the complaint exist, they may recount any information they know or\\nsaw. Once both sides have presented their case, the Hearing Board will privately\\ndeliberate and make a decision. This may not necessarily take place on the same\\nThe decision of the Hearing board will be sent to each of the parties in writing\\nthrough the Property Management Company or directly by the Hearing Board.', 'content_type': 'text', 'score': None, 'meta': {'name': 'cedar falls rules_00001.txt'}, 'embedding': None, 'id': 'cc31e63f53fb058a17fe6ca0b81309cd'}>]\n"
          ]
        }
      ]
    },
    {
      "cell_type": "code",
      "source": [
        "# Load a  local model or any of the QA models on\n",
        "# Hugging Face's model hub (https://huggingface.co/models)\n",
        "\n",
        "reader = FARMReader(model_name_or_path=\"deepset/roberta-base-squad2\", use_gpu=True)"
      ],
      "metadata": {
        "id": "hNrXEypK3gk8"
      },
      "execution_count": null,
      "outputs": []
    },
    {
      "cell_type": "code",
      "source": [
        "from haystack.pipelines import ExtractiveQAPipeline\n",
        "\n",
        "pipe = ExtractiveQAPipeline(reader, retriever)"
      ],
      "metadata": {
        "id": "k1C3rZvF30rt"
      },
      "execution_count": null,
      "outputs": []
    },
    {
      "cell_type": "code",
      "source": [
        "# You can configure how many candidates the reader and retriever shall return\n",
        "# The higher top_k_retriever, the better (but also the slower) your answers.\n",
        "predictionPets = pipe.run(\n",
        "    query=\"Are pets or animals allowed?\", params={\"Retriever\": {\"top_k\": 20}, \"Reader\": {\"top_k\": 3}}\n",
        ")\n",
        "predictionPool = pipe.run(\n",
        "    query=\"Is there a pool in my community?\", params={\"Retriever\": {\"top_k\": 20}, \"Reader\": {\"top_k\": 3}}\n",
        ")\n",
        "predictionParking = pipe.run(\n",
        "    query=\"Are there any parking rules?\", params={\"Retriever\": {\"top_k\": 20}, \"Reader\": {\"top_k\": 3}}\n",
        ")\n",
        "predictionContactInfo = pipe.run(\n",
        "    query=\"Who do I contact in this community?\", params={\"Retriever\": {\"top_k\": 20}, \"Reader\": {\"top_k\": 3}}\n",
        ")\n",
        "predictionPortal = pipe.run(\n",
        "    query=\"What should I know for the Resident Portal in this community?\", params={\"Retriever\": {\"top_k\": 20}, \"Reader\": {\"top_k\": 3}}\n",
        ")\n",
        "predictionARC = pipe.run(\n",
        "    query=\"What are the architectural or renovation rules for this community?\", params={\"Retriever\": {\"top_k\": 20}, \"Reader\": {\"top_k\": 3}}\n",
        ")\n",
        "predictionEmergency = pipe.run(\n",
        "    query=\"What should I do in an emergency? Who do I contact?\", params={\"Retriever\": {\"top_k\": 20}, \"Reader\": {\"top_k\": 3}}\n",
        ")"
      ],
      "metadata": {
        "id": "sOV4Qzuy35oK",
        "colab": {
          "base_uri": "https://localhost:8080/"
        },
        "outputId": "c685276a-0810-4c95-bfbc-afff117f44e7"
      },
      "execution_count": null,
      "outputs": [
        {
          "output_type": "stream",
          "name": "stderr",
          "text": [
            "Inferencing Samples:   0%|          | 0/2 [00:00<?, ? Batches/s]/usr/local/lib/python3.7/dist-packages/haystack/modeling/model/prediction_head.py:483: UserWarning: __floordiv__ is deprecated, and its behavior will change in a future version of pytorch. It currently rounds toward 0 (like the 'trunc' function NOT 'floor'). This results in incorrect rounding for negative values. To keep the current behavior, use torch.div(a, b, rounding_mode='trunc'), or for actual floor division, use torch.div(a, b, rounding_mode='floor').\n",
            "  start_indices = flat_sorted_indices // max_seq_len\n",
            "Inferencing Samples: 100%|██████████| 2/2 [00:01<00:00,  1.75 Batches/s]\n",
            "Inferencing Samples: 100%|██████████| 4/4 [00:02<00:00,  1.41 Batches/s]\n",
            "Inferencing Samples: 100%|██████████| 4/4 [00:02<00:00,  1.39 Batches/s]\n",
            "Inferencing Samples: 100%|██████████| 2/2 [00:01<00:00,  1.81 Batches/s]\n",
            "Inferencing Samples: 100%|██████████| 4/4 [00:02<00:00,  1.37 Batches/s]\n",
            "Inferencing Samples: 100%|██████████| 2/2 [00:01<00:00,  1.81 Batches/s]\n",
            "Inferencing Samples: 100%|██████████| 4/4 [00:02<00:00,  1.38 Batches/s]\n",
            "Inferencing Samples: 100%|██████████| 2/2 [00:01<00:00,  1.77 Batches/s]\n",
            "Inferencing Samples: 100%|██████████| 4/4 [00:02<00:00,  1.36 Batches/s]\n",
            "Inferencing Samples: 100%|██████████| 2/2 [00:01<00:00,  1.77 Batches/s]\n",
            "Inferencing Samples: 100%|██████████| 4/4 [00:02<00:00,  1.35 Batches/s]\n",
            "Inferencing Samples: 100%|██████████| 2/2 [00:01<00:00,  1.73 Batches/s]\n",
            "Inferencing Samples: 100%|██████████| 4/4 [00:03<00:00,  1.33 Batches/s]\n",
            "Inferencing Samples: 100%|██████████| 2/2 [00:01<00:00,  1.72 Batches/s]\n"
          ]
        }
      ]
    },
    {
      "cell_type": "code",
      "source": [
        "for ans in predictionPets[\"answers\"]:\n",
        "  print(\"predictionPets Answer: \" + '\\033[1;30;42m ' + str(ans.answer) + ' \\033[0;0m')\n",
        "  print(\"Context: \" + str(ans.context))\n",
        "  print(\"Score: \" + str(round(ans.score * 100,2)) + \" %\\n\")\n",
        "\n",
        "print(\"\\n\")  \n",
        "for ans in predictionPool[\"answers\"]:\n",
        "  print(\"predictionPool Answer: \" + '\\033[1;30;42m ' + str(ans.answer) + ' \\033[0;0m')\n",
        "  print(\"Context: \" + str(ans.context))\n",
        "  print(\"Score: \" + str(round(ans.score * 100,2)) + \" %\\n\")\n",
        "\n",
        "print(\"\\n\") \n",
        "for ans in predictionParking[\"answers\"]:\n",
        "  print(\"prediction Parking Answer: \" + '\\033[1;30;42m ' + str(ans.answer) + ' \\033[0;0m')\n",
        "  print(\"Context: \" + str(ans.context))\n",
        "  print(\"Score: \" + str(round(ans.score * 100,2)) + \" %\\n\")\n",
        "\n",
        "print(\"\\n\") \n",
        "for ans in predictionContactInfo[\"answers\"]:\n",
        "  print(\"predictionContactInfo Answer: \" + '\\033[1;30;42m ' + str(ans.answer) + ' \\033[0;0m')\n",
        "  print(\"Context: \" + str(ans.context))\n",
        "  print(\"Score: \" + str(round(ans.score * 100,2)) + \" %\\n\")\n",
        "\n",
        "print(\"\\n\") \n",
        "for ans in predictionPortal[\"answers\"]:\n",
        "  print(\"predictionPortal Answer: \" + '\\033[1;30;42m ' + str(ans.answer) + ' \\033[0;0m')\n",
        "  print(\"Context: \" + str(ans.context))\n",
        "  print(\"Score: \" + str(round(ans.score * 100,2)) + \" %\\n\")\n",
        "\n",
        "print(\"\\n\") \n",
        "for ans in predictionARC[\"answers\"]:\n",
        "  print(\"predictionARC Answer: \" + '\\033[1;30;42m ' + str(ans.answer) + ' \\033[0;0m')\n",
        "  print(\"Context: \" + str(ans.context))\n",
        "  print(\"Score: \" + str(round(ans.score * 100,2)) + \" %\\n\")\n",
        "\n",
        "print(\"\\n\") \n",
        "for ans in predictionEmergency[\"answers\"]:\n",
        "  print(\"predictionEmergency Answer: \" + '\\033[1;30;42m ' + str(ans.answer) + ' \\033[0;0m')\n",
        "  print(\"Context: \" + str(ans.context))\n",
        "  print(\"Score: \" + str(round(ans.score * 100,2)) + \" %\\n\")"
      ],
      "metadata": {
        "colab": {
          "base_uri": "https://localhost:8080/"
        },
        "id": "R7UkRux2Ju7T",
        "outputId": "ccac04bd-3b7d-468b-c1b8-0e39ef350746"
      },
      "execution_count": null,
      "outputs": [
        {
          "output_type": "stream",
          "name": "stdout",
          "text": [
            "predictionPets Answer: \u001b[1;30;42m Dogs \u001b[0;0m\n",
            "Context: mmon areas.\n",
            "No glass containers should be brought in the Bark Park area.\n",
            "Dogs are permitted to be off leash while in the Bark Park provided that they \n",
            "Score: 87.72 %\n",
            "\n",
            "predictionPets Answer: \u001b[1;30;42m Domestic reptiles, birds, rodents and fish shall be permitted \u001b[0;0m\n",
            "Context: to be maintained within the Community. (6.6)\n",
            "Domestic reptiles, birds, rodents and fish shall be permitted so long as such animals are kept in the\n",
            "Eac\n",
            "Score: 65.76 %\n",
            "\n",
            "predictionPets Answer: \u001b[1;30;42m The board of directors \u001b[0;0m\n",
            "Context: roject is complete.\n",
            "Who can raise the amount of the assessment?\n",
            "The board of directors can increase the amount of the assessment by following certain \n",
            "Score: 61.56 %\n",
            "\n",
            "\n",
            "\n",
            "predictionPool Answer: \u001b[1;30;42m Swimming Pools \u001b[0;0m\n",
            "Context:  the Board and\n",
            "ARTICLE 7.0 ADDITIONAL RESTRICTIONS AND PROHIBITIONS\n",
            "Swimming Pools, Above Ground--Portable or Permanent\n",
            "Carport, Garage Additions PROH\n",
            "Score: 79.11 %\n",
            "\n",
            "predictionPool Answer: \u001b[1;30;42m Swimming Pools \u001b[0;0m\n",
            "Context: specific animals even\n",
            "though other animals are permitted to remain.\n",
            "Swimming Pools, Above Ground--Portable or Permanent are\n",
            "Tree houses, Forts are PRO\n",
            "Score: 77.67 %\n",
            "\n",
            "predictionPool Answer: \u001b[1;30;42m The board of directors \u001b[0;0m\n",
            "Context: roject is complete.\n",
            "Who can raise the amount of the assessment?\n",
            "The board of directors can increase the amount of the assessment by following certain \n",
            "Score: 61.97 %\n",
            "\n",
            "\n",
            "\n",
            "prediction Parking Answer: \u001b[1;30;42m All contractors must adhere to the Association Rules and Design Guidelines including all parking rules \u001b[0;0m\n",
            "Context: r any damage from Owner\n",
            "All contractors must adhere to the Association Rules and Design Guidelines including all parking rules.\n",
            "All work performed by \n",
            "Score: 57.96 %\n",
            "\n",
            "prediction Parking Answer: \u001b[1;30;42m The board of directors \u001b[0;0m\n",
            "Context: roject is complete.\n",
            "Who can raise the amount of the assessment?\n",
            "The board of directors can increase the amount of the assessment by following certain \n",
            "Score: 49.0 %\n",
            "\n",
            "prediction Parking Answer: \u001b[1;30;42m The board has the responsibility to collect the\n",
            "association’s assessments, pay its bills, operate the association efficiently, and address violations of the\n",
            "rules of the association \u001b[0;0m\n",
            "Context:  The board has the responsibility to collect the\n",
            "association’s assessments, pay its bills, operate the association efficiently, and address violations of the\n",
            "rules of the association\n",
            "Score: 39.44 %\n",
            "\n",
            "\n",
            "\n",
            "predictionContactInfo Answer: \u001b[1;30;42m Regional Animal Services of King County \u001b[0;0m\n",
            "Context:  the Association Manager, you are encouraged to\n",
            "contact Regional Animal Services of King County for assistance by calling\n",
            "206-296-PETS (7387), extensi\n",
            "Score: 69.44 %\n",
            "\n",
            "predictionContactInfo Answer: \u001b[1;30;42m an ACC\n",
            "representative \u001b[0;0m\n",
            "Context: so be reviewed, but cannot be expedited. You may be contacted by an ACC\n",
            "representative for additional information about your project.\n",
            "1. Window air co\n",
            "Score: 61.05 %\n",
            "\n",
            "predictionContactInfo Answer: \u001b[1;30;42m Cedar Falls Board of Directors \u001b[0;0m\n",
            "Context: o resolve their view issues themselves\n",
            "before involving the Cedar Falls Board of Directors. The Cedar Falls Board of Directors\n",
            "has the last word in re\n",
            "Score: 54.34 %\n",
            "\n",
            "\n",
            "\n",
            "predictionPortal Answer: \u001b[1;30;42m The board of directors \u001b[0;0m\n",
            "Context: roject is complete.\n",
            "Who can raise the amount of the assessment?\n",
            "The board of directors can increase the amount of the assessment by following certain \n",
            "Score: 51.13 %\n",
            "\n",
            "predictionPortal Answer: \u001b[1;30;42m The Management Trust \u001b[0;0m\n",
            "Context: s the CC&Rs or this Community Handbook. Then\n",
            "you should speak to The Management Trust, they may be able to provide assistance. Questions or concerns\n",
            "w\n",
            "Score: 41.17 %\n",
            "\n",
            "predictionPortal Answer: \u001b[1;30;42m inherent\n",
            "risks of trees falling on to their property \u001b[0;0m\n",
            "Context: e property, the homeowner is assumed to know the inherent\n",
            "risks of trees falling on to their property. These homeowners are advised to\n",
            "maintain adequa\n",
            "Score: 36.78 %\n",
            "\n",
            "\n",
            "\n",
            "predictionARC Answer: \u001b[1;30;42m The board of directors \u001b[0;0m\n",
            "Context: roject is complete.\n",
            "Who can raise the amount of the assessment?\n",
            "The board of directors can increase the amount of the assessment by following certain \n",
            "Score: 73.2 %\n",
            "\n",
            "predictionARC Answer: \u001b[1;30;42m Architectural\n",
            "Guidelines \u001b[0;0m\n",
            "Context: , the Bylaws, Articles of Incorporation, Association Rules and Architectural\n",
            "Guidelines act as the community’s charter, or Constitution, providing a g\n",
            "Score: 49.27 %\n",
            "\n",
            "predictionARC Answer: \u001b[1;30;42m between the hours of 7:00 AM and 7:00 PM \u001b[0;0m\n",
            "Context: ties shall be carried on in Cedar\n",
            "Falls community only between the hours of 7:00 AM and 7:00 PM.\n",
            "e Norubbish or debris of any kind shall be dumped, pl\n",
            "Score: 38.89 %\n",
            "\n",
            "\n",
            "\n",
            "predictionEmergency Answer: \u001b[1;30;42m Regional Animal Services of King County \u001b[0;0m\n",
            "Context:  the Association Manager, you are encouraged to\n",
            "contact Regional Animal Services of King County for assistance by calling\n",
            "206-296-PETS (7387), extensi\n",
            "Score: 68.32 %\n",
            "\n",
            "predictionEmergency Answer: \u001b[1;30;42m the Association \u001b[0;0m\n",
            "Context: \n",
            "Exclusive Use Easement Areas. (6.13)\n",
            "Owner must immediately notify the Association in the event of any water leak, backup, or overflow of\n",
            "plumbing an\n",
            "Score: 61.9 %\n",
            "\n",
            "predictionEmergency Answer: \u001b[1;30;42m 911 \u001b[0;0m\n",
            "Context: lmie Police Department, which provides police service in North\n",
            "Bend. Call 911 for emergencies or 425-888-3333 for non emergencies.\n",
            "Cedar Falls Homeown\n",
            "Score: 59.75 %\n",
            "\n"
          ]
        }
      ]
    },
    {
      "cell_type": "code",
      "source": [
        "# Now you can either print the object directly...\n",
        "from pprint import pprint\n",
        "\n",
        "pprint(predictionPool)\n",
        "pprint(predictionPets)\n",
        "pprint(predictionParking)"
      ],
      "metadata": {
        "id": "HPwfXhAlWzr1"
      },
      "execution_count": null,
      "outputs": []
    },
    {
      "cell_type": "code",
      "source": [
        "# PETS TIME\n",
        "# Change `minimum` to `medium` or `all` to raise the level of detail\n",
        "print_answers(predictionPets, details=\"minimum\")"
      ],
      "metadata": {
        "id": "BBzNyaV04KMg"
      },
      "execution_count": null,
      "outputs": []
    },
    {
      "cell_type": "code",
      "source": [
        "# POOL TIME\n",
        "# Change `minimum` to `medium` or `all` to raise the level of detail\n",
        "print_answers(predictionPool, details=\"minimum\")"
      ],
      "metadata": {
        "id": "k3SyDRbKOwoJ"
      },
      "execution_count": null,
      "outputs": []
    },
    {
      "cell_type": "code",
      "source": [
        "# PARKING TIME\n",
        "# Change `minimum` to `medium` or `all` to raise the level of detail\n",
        "print_answers(predictionParking, details=\"minimum\")"
      ],
      "metadata": {
        "id": "gQ96ixvTOxIj"
      },
      "execution_count": null,
      "outputs": []
    }
  ]
}